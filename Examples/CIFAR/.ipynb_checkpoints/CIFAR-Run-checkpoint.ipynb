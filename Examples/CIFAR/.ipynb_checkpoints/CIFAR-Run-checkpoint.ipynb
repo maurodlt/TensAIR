{
 "cells": [
  {
   "cell_type": "markdown",
   "id": "c509cd5c-c5bd-415f-9445-0c18b8bba1fb",
   "metadata": {},
   "source": [
    "# Run CIFAR usecase"
   ]
  },
  {
   "cell_type": "code",
   "execution_count": 1,
   "id": "895f9435-2d58-4753-b218-db430e253b4b",
   "metadata": {},
   "outputs": [],
   "source": [
    "#https://kb.oakland.edu/uts/HPCJupyterMPI\n",
    "import ipyparallel as ipp"
   ]
  },
  {
   "cell_type": "code",
   "execution_count": 2,
   "id": "a4fbbd1e-ba60-4876-a62b-85dba9cd152e",
   "metadata": {},
   "outputs": [],
   "source": [
    "def mpi_code():\n",
    "    from mpi4py import MPI\n",
    "    import tensair_py\n",
    "    import math\n",
    "    import os\n",
    "    comm = MPI.COMM_WORLD\n",
    "    \n",
    "    tensair_path = os.environ.get(\"TENSAIR_PATH\")\n",
    "\n",
    "    mini_batch_size = 128\n",
    "    msg_sec = 200    \n",
    "    train_data_file = tensair_path + \"/data/cifar/cifar-10_batch1.bin\" #Downloaded from https://www.cs.toronto.edu/~kriz/cifar.html (data_batch_1 from CIFAR-10 binary file)\n",
    "    event_generator = tensair_py.CIFAR_EventGenerator(mpi_comm=comm, tag=1, mini_batch_size=mini_batch_size, \n",
    "                                                      msg_sec=msg_sec, train_data_file=train_data_file)\n",
    "    \n",
    "    inputMaxSize = 4+4+ (8*2) + (4*mini_batch_size) + (4*mini_batch_size*32*32*3)\n",
    "    gradientsMaxSize = 8+4+4+4+4+(8*12) + (4*((64*10) + (10) + (3*3*3*32) + (32) + (3*3*32*64) + (64) + (3*3*64*64) + (64) + (1024*64) + (64)))\n",
    "    window_size = max(inputMaxSize, gradientsMaxSize)\n",
    "    saved_model_dir = tensair_path + \"/data/cifar/cifar_model.tf\"  #Created using CIFAR-Model notebook\n",
    "    drift_detector_mode = 1\n",
    "    dataset_size = 50000\n",
    "    epoch_size= math.floor(dataset_size/mini_batch_size)\n",
    "    model = tensair_py.TensAIR(mpi_comm=comm, tag=2, window_size=window_size, saved_model_dir=saved_model_dir, \n",
    "                               drift_detector_mode=drift_detector_mode,epoch_size=epoch_size)\n",
    "\n",
    "    operators = [event_generator, model]\n",
    "    links = [[0,1],[1,1]]\n",
    "    basic_dataflow = tensair_py.BasicDataflow(mpi_comm=comm, operators=operators, links=links)\n",
    "    print(\"Starting dataflow\")\n",
    "    basic_dataflow.streamProcess()\n"
   ]
  },
  {
   "cell_type": "code",
   "execution_count": 3,
   "id": "96cadf52-b186-43c9-bee4-6f4688802c07",
   "metadata": {},
   "outputs": [
    {
     "name": "stdout",
     "output_type": "stream",
     "text": [
      "Starting 2 engines with <class 'ipyparallel.cluster.launcher.MPIEngineSetLauncher'>\n"
     ]
    },
    {
     "data": {
      "application/vnd.jupyter.widget-view+json": {
       "model_id": "065436fb54e246c783b7bec101ddc985",
       "version_major": 2,
       "version_minor": 0
      },
      "text/plain": [
       "  0%|          | 0/2 [00:00<?, ?engine/s]"
      ]
     },
     "metadata": {},
     "output_type": "display_data"
    }
   ],
   "source": [
    "rc = ipp.Cluster(controller_ip=\"*\", engines=\"mpi\", n=2).start_and_connect_sync()"
   ]
  },
  {
   "cell_type": "code",
   "execution_count": 4,
   "id": "f087833e-ba75-4354-b214-371cba37d73c",
   "metadata": {},
   "outputs": [],
   "source": [
    "view = rc.broadcast_view()"
   ]
  },
  {
   "cell_type": "code",
   "execution_count": 5,
   "id": "c16be2a2-cca3-4770-9192-0a97dc886ce8",
   "metadata": {},
   "outputs": [],
   "source": [
    "ar_list = [view.apply_async(mpi_code, 2)]"
   ]
  },
  {
   "cell_type": "code",
   "execution_count": 6,
   "id": "7d5b7a96-d322-4493-a1c3-0e3880223c63",
   "metadata": {},
   "outputs": [],
   "source": [
    "asyn_run = view.apply_async(mpi_code)"
   ]
  },
  {
   "cell_type": "code",
   "execution_count": 7,
   "id": "4c16dd2a-1963-41fe-b69b-5dda794e9178",
   "metadata": {},
   "outputs": [
    {
     "data": {
      "text/plain": [
       "<AsyncResult(mpi_code): pending>"
      ]
     },
     "execution_count": 7,
     "metadata": {},
     "output_type": "execute_result"
    }
   ],
   "source": [
    "asyn_run"
   ]
  },
  {
   "cell_type": "markdown",
   "id": "0c731e3e-5770-470f-8ba4-9f9e688a601f",
   "metadata": {},
   "source": [
    "# Visualize Results\n",
    "\n",
    "The visualization does not work on jupyter lab, only on upyter notebook"
   ]
  },
  {
   "cell_type": "code",
   "execution_count": 8,
   "id": "49f6bc12-1a27-477d-82bc-c3d2052ad070",
   "metadata": {},
   "outputs": [],
   "source": [
    "%matplotlib ipympl\n",
    "from itertools import count\n",
    "import pandas as pd\n",
    "import matplotlib.pyplot as plt\n",
    "from matplotlib.animation import FuncAnimation\n",
    "import time\n",
    "import os"
   ]
  },
  {
   "cell_type": "code",
   "execution_count": 9,
   "id": "eced636b-9db6-43ae-9b28-40aa23eb1123",
   "metadata": {},
   "outputs": [
    {
     "data": {
      "application/vnd.jupyter.widget-view+json": {
       "model_id": "1bbe9dcd14a0432d8e2dbe8bff2ae92d",
       "version_major": 2,
       "version_minor": 0
      },
      "image/png": "[encoded data removed]",
      "text/html": [
       "\n",
       "            <div style=\"display: inline-block;\">\n",
       "                <div class=\"jupyter-widgets widget-label\" style=\"text-align: center;\">\n",
       "                    Figure\n",
       "                </div>\n",
       "                <img src='data:image/png;base64,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' width=640.0/>\n",
       "            </div>\n",
       "        "
      ],
      "text/plain": [
       "Canvas(toolbar=Toolbar(toolitems=[('Home', 'Reset original view', 'home', 'home'), ('Back', 'Back to previous …"
      ]
     },
     "metadata": {},
     "output_type": "display_data"
    }
   ],
   "source": [
    "index = count()\n",
    "losses = []\n",
    "accs = []\n",
    "conditions = []\n",
    "conditions_first = {'blue': True, 'red': True}\n",
    "wainting_file = True\n",
    "\n",
    "tensair_path = os.environ.get(\"TENSAIR_PATH\")\n",
    "outputfile = tensair_path + \"/output/0.csv\"\n",
    "\n",
    "\n",
    "while(wainting_file):\n",
    "    try: \n",
    "        myfile = open(outputfile, \"r\")\n",
    "        wainting_file = False\n",
    "    except:\n",
    "        time.sleep(1)\n",
    "    \n",
    "def animate(i):\n",
    "    global losses, conditions\n",
    "    while True:\n",
    "        line = myfile.readline()\n",
    "        if line != \"\":\n",
    "            parts = line.split(',')\n",
    "            losses.append(float(parts[2]))\n",
    "            conditions.append(parts[0])  # Assume this is the condition\n",
    "        else:\n",
    "            break\n",
    "\n",
    "    plt.cla()  # Clear the axes to avoid drawing over the old lines\n",
    "\n",
    "    # Plot each segment with a color based on the condition\n",
    "    for j in range(1, len(losses)):\n",
    "        color = 'blue' if conditions[j] == 'training' else 'red'\n",
    "        if conditions_first[color]:\n",
    "            plt.plot([j-1, j], [losses[j-1], losses[j]], color=color, label=conditions[j])\n",
    "            conditions_first[color] = False\n",
    "        else:\n",
    "            plt.plot([j-1, j], [losses[j-1], losses[j]], color=color)\n",
    "            \n",
    "    plt.xlabel('datastream')\n",
    "    plt.ylabel('Loss')\n",
    "    plt.legend(loc='upper left', shadow=True, fontsize='large')\n",
    "\n",
    "            \n",
    "ani = FuncAnimation(plt.gcf(), animate, interval=1000)\n",
    "\n",
    "plt.show()"
   ]
  },
  {
   "cell_type": "code",
   "execution_count": null,
   "id": "1db631d0-2350-4dfb-8ce3-c7ad69579e47",
   "metadata": {},
   "outputs": [],
   "source": [
    "#ani.pause()"
   ]
  }
 ],
 "metadata": {
  "kernelspec": {
   "display_name": "Python 3 (ipykernel)",
   "language": "python",
   "name": "python3"
  },
  "language_info": {
   "codemirror_mode": {
    "name": "ipython",
    "version": 3
   },
   "file_extension": ".py",
   "mimetype": "text/x-python",
   "name": "python",
   "nbconvert_exporter": "python",
   "pygments_lexer": "ipython3",
   "version": "3.9.4"
  }
 },
 "nbformat": 4,
 "nbformat_minor": 5
}
