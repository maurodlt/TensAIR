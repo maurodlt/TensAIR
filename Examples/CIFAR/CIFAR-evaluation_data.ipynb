{
 "cells": [
  {
   "cell_type": "code",
   "execution_count": 1,
   "id": "8508c51f-3186-4974-ab15-d8d927377308",
   "metadata": {},
   "outputs": [],
   "source": [
    "from tensorflow.keras import datasets\n",
    "import struct\n",
    "import os"
   ]
  },
  {
   "cell_type": "code",
   "execution_count": 2,
   "id": "f8bb96dc",
   "metadata": {},
   "outputs": [],
   "source": [
    "tensair_path = os.environ.get(\"TENSAIR_PATH\")"
   ]
  },
  {
   "cell_type": "markdown",
   "id": "e51976c3-7488-4e25-b852-d30ea9352b58",
   "metadata": {},
   "source": [
    "## Download CIFAR DATASET"
   ]
  },
  {
   "cell_type": "code",
   "execution_count": 3,
   "id": "0bafbe16-cdea-4e3e-bd90-4bd94dced6fa",
   "metadata": {},
   "outputs": [],
   "source": [
    "(train_images, train_labels), (eval_images, eval_labels) = datasets.cifar10.load_data()"
   ]
  },
  {
   "cell_type": "markdown",
   "id": "4e681f70-afac-43de-ac27-c4d69433cde4",
   "metadata": {},
   "source": [
    "## Convert evaluation data into byte format accepted by TensAIR"
   ]
  },
  {
   "cell_type": "code",
   "execution_count": 4,
   "id": "37a8563a-b6a8-4b17-a141-126039f2b3f3",
   "metadata": {},
   "outputs": [],
   "source": [
    "size_of_int = 4 # int = 4 bytes in c++\n",
    "size_of_char = 1\n",
    "mini_batch_size = 512\n",
    "size_of_float = 4\n",
    "with open(tensair_path+\"/data/cifar/cifar-evaluate.bytes\", 'wb') as file:\n",
    "    file.write(mini_batch_size.to_bytes(4, byteorder ='little',signed=True)) # number of minibatchs\n",
    "    file.write(len(eval_labels).to_bytes(4, byteorder ='little',signed=True)) # number of training examples\n",
    "    file.write((2).to_bytes(4, byteorder ='little',signed=True)) # number of tensors (labels, imgs)\n",
    "    file.write((len(eval_labels) * size_of_int).to_bytes(4, byteorder ='little',signed=True)) # size in bytes of labels\n",
    "    for l in eval_labels:\n",
    "        file.write(int(l[0]).to_bytes(4, byteorder ='little',signed=True))\n",
    "    file.write((len(eval_images) * 32 * 32 * 3 * size_of_float).to_bytes(4, byteorder ='little',signed=True)) # size in bytes of imgs\n",
    "    for image in eval_images:\n",
    "        for height in image:\n",
    "            for width in height:\n",
    "                for pixel in width:\n",
    "                    file.write(bytes(bytearray(struct.pack(\"f\", (float)(pixel)/255.0))))"
   ]
  }
 ],
 "metadata": {
  "kernelspec": {
   "display_name": "Python 3 (ipykernel)",
   "language": "python",
   "name": "python3"
  },
  "language_info": {
   "codemirror_mode": {
    "name": "ipython",
    "version": 3
   },
   "file_extension": ".py",
   "mimetype": "text/x-python",
   "name": "python",
   "nbconvert_exporter": "python",
   "pygments_lexer": "ipython3",
   "version": "3.9.4"
  }
 },
 "nbformat": 4,
 "nbformat_minor": 5
}
