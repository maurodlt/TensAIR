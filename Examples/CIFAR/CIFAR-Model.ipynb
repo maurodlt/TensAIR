{
 "cells": [
  {
   "cell_type": "code",
   "execution_count": 1,
   "id": "d0af8449-6545-4dd4-a919-ec93c221a916",
   "metadata": {},
   "outputs": [],
   "source": [
    "import tensair_aux as tensair\n",
    "import os\n",
    "import tensorflow as tf\n",
    "\n",
    "from tensorflow.keras import Model\n",
    "from tensorflow.keras import layers\n",
    "from tensorflow.python.keras.engine import data_adapter\n",
    "from tensorflow.python.eager import backprop"
   ]
  },
  {
   "cell_type": "markdown",
   "id": "0a8d35e0-d763-4451-b90c-77c53bf00077",
   "metadata": {},
   "source": [
    "## Define TensorFlow Model\n",
    "\n",
    "One may create a TensorFlow model as usual but extending TensAIR instead of Model."
   ]
  },
  {
   "cell_type": "code",
   "execution_count": 2,
   "id": "60c883df-2da3-4999-b120-4f6502535bdf",
   "metadata": {},
   "outputs": [],
   "source": [
    "class Cifar(tensair.TensAIR):\n",
    "    def __init__(self):\n",
    "        super(Cifar, self).__init__()\n",
    "        self.l1 = layers.Conv2D(32, (3, 3), activation='relu', input_shape=(32, 32, 3))\n",
    "        self.l2 = layers.MaxPooling2D((2, 2))\n",
    "        self.l3 = layers.Conv2D(64, (3, 3), activation='relu')\n",
    "        self.l4 = layers.MaxPooling2D((2, 2))\n",
    "        self.l5 = layers.Conv2D(64, (3, 3), activation='relu')\n",
    "        self.l6 = layers.Flatten()\n",
    "        self.l7 = layers.Dense(64, activation='relu')\n",
    "        self.l8 = layers.Dense(10)\n",
    "        \n",
    "    @tf.function\n",
    "    def call(self, x):\n",
    "        x = self.l1(x)\n",
    "        x = self.l2(x)\n",
    "        x = self.l3(x)\n",
    "        x = self.l4(x)\n",
    "        x = self.l5(x)\n",
    "        x = self.l6(x)\n",
    "        x = self.l7(x)\n",
    "        x = self.l8(x)\n",
    "        return x"
   ]
  },
  {
   "cell_type": "code",
   "execution_count": 3,
   "id": "9e546887-de51-4c02-a277-66d12833ef79",
   "metadata": {},
   "outputs": [],
   "source": [
    "#compile TensorFlow model as usual\n",
    "model = Cifar()\n",
    "\n",
    "learning_rate=0.01\n",
    "loss = tf.keras.losses.SparseCategoricalCrossentropy(from_logits=True)\n",
    "opt = tf.keras.optimizers.Adam()\n",
    "\n",
    "model.compile(optimizer=opt,\n",
    "              loss=loss,\n",
    "              metrics=['accuracy'])"
   ]
  },
  {
   "cell_type": "markdown",
   "id": "724f6bcf-9c34-46ed-83d2-e1ee0cfe5a0d",
   "metadata": {},
   "source": [
    "# Prepare model for deployment\n",
    "\n",
    "To prepare the model for deployment, we initialize the TF graph making a test prediction.\n",
    "\n",
    "At last, we initialize the gradients that will be broadcasted via TensAIR (mandatory)"
   ]
  },
  {
   "cell_type": "code",
   "execution_count": 4,
   "id": "9497481f-1288-4526-998b-471f0e42e8e9",
   "metadata": {},
   "outputs": [
    {
     "name": "stdout",
     "output_type": "stream",
     "text": [
      "1/1 [==============================] - 0s 123ms/step\n"
     ]
    },
    {
     "name": "stderr",
     "output_type": "stream",
     "text": [
      "2024-03-06 18:46:30.900965: W tensorflow/core/platform/profile_utils/cpu_utils.cc:128] Failed to get CPU frequency: 0 Hz\n"
     ]
    },
    {
     "data": {
      "text/plain": [
       "array([[0., 0., 0., 0., 0., 0., 0., 0., 0., 0.]], dtype=float32)"
      ]
     },
     "execution_count": 4,
     "metadata": {},
     "output_type": "execute_result"
    }
   ],
   "source": [
    "x = tf.zeros((1, 32, 32, 3), dtype=float)\n",
    "model.predict(x)"
   ]
  },
  {
   "cell_type": "code",
   "execution_count": 5,
   "id": "581da77c-1616-4c06-935a-6c31a4a199cf",
   "metadata": {},
   "outputs": [],
   "source": [
    "model.init_delta(model.trainable_weights)"
   ]
  },
  {
   "cell_type": "markdown",
   "id": "7ea713c7-4e18-4aae-918b-5cec22a41784",
   "metadata": {},
   "source": [
    "# Save Model\n",
    "\n",
    "To save the model, we simply define the dimentions and types of the input tensors used during training, a pass those (along with the model) to the tensair.define_signatures function) to obtain the signature of the functions\n",
    "\n",
    "At last, we save the model on the desired location uwing the signatures previously obtained"
   ]
  },
  {
   "cell_type": "code",
   "execution_count": 6,
   "id": "17a125b7-da96-45fc-a9e5-44b5030451f4",
   "metadata": {},
   "outputs": [],
   "source": [
    "input_tensors_dims = [[None,32,32,3],[None]]\n",
    "input_tensors_types = [tf.float32,tf.int32]\n",
    "input_tensors_structure = (1,1)"
   ]
  },
  {
   "cell_type": "code",
   "execution_count": 7,
   "id": "f71c110a-68b5-428a-a027-2d9927847413",
   "metadata": {},
   "outputs": [],
   "source": [
    "signatures = tensair.define_signatures(model, input_tensors_dims,input_tensors_types,input_tensors_structure)"
   ]
  },
  {
   "cell_type": "code",
   "execution_count": 8,
   "id": "d12c0046",
   "metadata": {},
   "outputs": [],
   "source": [
    "tensair_path = os.environ.get(\"TENSAIR_PATH\")"
   ]
  },
  {
   "cell_type": "code",
   "execution_count": 9,
   "id": "0815e892-dae3-4825-afdb-22c201e8196b",
   "metadata": {},
   "outputs": [
    {
     "name": "stderr",
     "output_type": "stream",
     "text": [
      "WARNING:absl:Found untraced functions such as _jit_compiled_convolution_op, _jit_compiled_convolution_op, _jit_compiled_convolution_op while saving (showing 3 of 3). These functions will not be directly callable after loading.\n"
     ]
    },
    {
     "name": "stdout",
     "output_type": "stream",
     "text": [
      "INFO:tensorflow:Assets written to: /Users/mauro.dalleluccatosi/Documents/GitHub-personal/TensAIR/data/cifar/cifar_model.tf/assets\n"
     ]
    },
    {
     "name": "stderr",
     "output_type": "stream",
     "text": [
      "INFO:tensorflow:Assets written to: /Users/mauro.dalleluccatosi/Documents/GitHub-personal/TensAIR/data/cifar/cifar_model.tf/assets\n"
     ]
    }
   ],
   "source": [
    "model.save(tensair_path+\"/data/cifar/cifar_model.tf\", save_format=\"tf\", signatures=signatures)"
   ]
  },
  {
   "cell_type": "code",
   "execution_count": null,
   "id": "ba9bf170-4692-4f66-b66c-3a0ad5c7a5e6",
   "metadata": {},
   "outputs": [],
   "source": []
  }
 ],
 "metadata": {
  "kernelspec": {
   "display_name": "Python 3 (ipykernel)",
   "language": "python",
   "name": "python3"
  },
  "language_info": {
   "codemirror_mode": {
    "name": "ipython",
    "version": 3
   },
   "file_extension": ".py",
   "mimetype": "text/x-python",
   "name": "python",
   "nbconvert_exporter": "python",
   "pygments_lexer": "ipython3",
   "version": "3.9.4"
  }
 },
 "nbformat": 4,
 "nbformat_minor": 5
}
