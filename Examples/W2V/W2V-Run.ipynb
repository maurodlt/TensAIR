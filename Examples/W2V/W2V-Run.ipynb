{
 "cells": [
  {
   "cell_type": "markdown",
   "id": "66868a94-cf99-4bb8-93cd-087ffc34e81f",
   "metadata": {},
   "source": [
    "# Run W2V usecase"
   ]
  },
  {
   "cell_type": "code",
   "execution_count": 1,
   "id": "5d5c045f-e004-44e1-b400-8635eba68bb1",
   "metadata": {},
   "outputs": [],
   "source": [
    "#https://kb.oakland.edu/uts/HPCJupyterMPI\n",
    "import ipyparallel as ipp"
   ]
  },
  {
   "cell_type": "code",
   "execution_count": 2,
   "id": "0102bc2f-af66-4f11-9849-bfbe2469807f",
   "metadata": {},
   "outputs": [],
   "source": [
    "def mpi_code():\n",
    "    from mpi4py import MPI\n",
    "    import tensair_py\n",
    "    import math\n",
    "    comm = MPI.COMM_WORLD\n",
    "    \n",
    "    tensair_path = os.environ.get(\"TENSAIR_PATH\")\n",
    "\n",
    "    mini_batch_size = 2048\n",
    "    msg_sec = 200 \n",
    "    train_data_file = tensair_path + \"/data/w2v/shakespeare_train.txt\" #Created using W2V_data notebook\n",
    "    event_generator = tensair_py.W2V_EventGenerator(mpi_comm=comm, tag=1, mini_batch_size=mini_batch_size, msg_sec=msg_sec, train_data_file=train_data_file)\n",
    "    \n",
    "    inputMaxSize = 4+4+ (8*3) + (4*mini_batch_size) + (4*mini_batch_size*5) + (4*mini_batch_size*5)\n",
    "    gradientsMaxSize = 8+4+4+4+(8*4) + 4 + 4 + (4*50000*300*2)\n",
    "    window_size = max(inputMaxSize, gradientsMaxSize)\n",
    "    saved_model_dir = tensair_path + \"/data/w2v/w2v_model.tf\" #Created using W2V-Model notebook\n",
    "    drift_detector_mode = 1\n",
    "    dataset_size = 112640 #shakespeare dataset size\n",
    "    epoch_size= math.floor(dataset_size/mini_batch_size)\n",
    "    model = tensair_py.TensAIR(mpi_comm=comm, tag=2, window_size=window_size, saved_model_dir=saved_model_dir, \n",
    "                               drift_detector_mode=drift_detector_mode,epoch_size=epoch_size)\n",
    "\n",
    "    operators = [event_generator, model]\n",
    "    links = [[0,1],[1,1]]\n",
    "    basic_dataflow = tensair_py.BasicDataflow(mpi_comm=comm, operators=operators, links=links)\n",
    "    print(\"Starting dataflow\")\n",
    "    basic_dataflow.streamProcess()\n"
   ]
  },
  {
   "cell_type": "code",
   "execution_count": 3,
   "id": "b46ab534-6090-47af-9f33-968354379af1",
   "metadata": {},
   "outputs": [
    {
     "name": "stdout",
     "output_type": "stream",
     "text": [
      "Starting 2 engines with <class 'ipyparallel.cluster.launcher.MPIEngineSetLauncher'>\n"
     ]
    },
    {
     "data": {
      "application/vnd.jupyter.widget-view+json": {
       "model_id": "8519f9f137c542f182d5c4cd9c6e6c6d",
       "version_major": 2,
       "version_minor": 0
      },
      "text/plain": [
       "  0%|          | 0/2 [00:00<?, ?engine/s]"
      ]
     },
     "metadata": {},
     "output_type": "display_data"
    }
   ],
   "source": [
    "rc = ipp.Cluster(controller_ip=\"*\", engines=\"mpi\", n=2).start_and_connect_sync()"
   ]
  },
  {
   "cell_type": "code",
   "execution_count": 4,
   "id": "8f34029b-2599-49fb-973a-217d89bfd9fa",
   "metadata": {},
   "outputs": [],
   "source": [
    "view = rc.broadcast_view()"
   ]
  },
  {
   "cell_type": "code",
   "execution_count": 5,
   "id": "b351f307-2efe-410e-9489-d868e5ce6247",
   "metadata": {},
   "outputs": [],
   "source": [
    "ar_list = [view.apply_async(mpi_code, 2)]"
   ]
  },
  {
   "cell_type": "code",
   "execution_count": 6,
   "id": "857a6428-f8a9-4f15-9d45-45fb12da490f",
   "metadata": {},
   "outputs": [],
   "source": [
    "asyn_run = view.apply_async(mpi_code)"
   ]
  },
  {
   "cell_type": "code",
   "execution_count": 7,
   "id": "a0b8441f-c67b-4f02-b638-34cec8b9c835",
   "metadata": {},
   "outputs": [
    {
     "data": {
      "text/plain": [
       "<AsyncResult(mpi_code): pending>"
      ]
     },
     "execution_count": 7,
     "metadata": {},
     "output_type": "execute_result"
    }
   ],
   "source": [
    "asyn_run"
   ]
  },
  {
   "cell_type": "markdown",
   "id": "7d7d381e-6206-4cca-98b3-e1635721f110",
   "metadata": {},
   "source": [
    "# Visualize Results\n",
    "\n",
    "The visualization does not work on jupyter lab, only on upyter notebook"
   ]
  },
  {
   "cell_type": "code",
   "execution_count": 8,
   "id": "9c25fe45-0faa-4ad0-a856-9c06ecadd4b8",
   "metadata": {},
   "outputs": [],
   "source": [
    "%matplotlib ipympl\n",
    "from itertools import count\n",
    "import pandas as pd\n",
    "import matplotlib.pyplot as plt\n",
    "from matplotlib.animation import FuncAnimation\n",
    "import time\n",
    "import os"
   ]
  },
  {
   "cell_type": "code",
   "execution_count": 9,
   "id": "16db8bb6-d9c8-4d99-81a1-f271916eb882",
   "metadata": {},
   "outputs": [
    {
     "data": {
      "application/vnd.jupyter.widget-view+json": {
       "model_id": "1f8c256b7c654e7cb9bec3114de3c7d7",
       "version_major": 2,
       "version_minor": 0
      },
      "image/png": "[encoded data removed]",
      "text/html": [
       "\n",
       "            <div style=\"display: inline-block;\">\n",
       "                <div class=\"jupyter-widgets widget-label\" style=\"text-align: center;\">\n",
       "                    Figure\n",
       "                </div>\n",
       "                <img src='data:image/png;base64,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' width=640.0/>\n",
       "            </div>\n",
       "        "
      ],
      "text/plain": [
       "Canvas(toolbar=Toolbar(toolitems=[('Home', 'Reset original view', 'home', 'home'), ('Back', 'Back to previous …"
      ]
     },
     "metadata": {},
     "output_type": "display_data"
    }
   ],
   "source": [
    "index = count()\n",
    "losses = []\n",
    "accs = []\n",
    "conditions = []\n",
    "conditions_first = {'blue': True, 'red': True}\n",
    "wainting_file = True\n",
    "\n",
    "tensair_path = os.environ.get(\"TENSAIR_PATH\")\n",
    "outputfile = tensair_path + \"/output/0.csv\"\n",
    "\n",
    "\n",
    "while(wainting_file):\n",
    "    try: \n",
    "        myfile = open(outputfile, \"r\")\n",
    "        wainting_file = False\n",
    "    except:\n",
    "        time.sleep(1)\n",
    "    \n",
    "def animate(i):\n",
    "    global losses, conditions\n",
    "    while True:\n",
    "        line = myfile.readline()\n",
    "        if line != \"\":\n",
    "            parts = line.split(',')\n",
    "            losses.append(float(parts[2]))\n",
    "            conditions.append(parts[0])  # Assume this is the condition\n",
    "        else:\n",
    "            break\n",
    "\n",
    "    plt.cla()  # Clear the axes to avoid drawing over the old lines\n",
    "\n",
    "    # Plot each segment with a color based on the condition\n",
    "    for j in range(1, len(losses)):\n",
    "        color = 'blue' if conditions[j] == 'training' else 'red'\n",
    "        if conditions_first[color]:\n",
    "            plt.plot([j-1, j], [losses[j-1], losses[j]], color=color, label=conditions[j])\n",
    "            conditions_first[color] = False\n",
    "        else:\n",
    "            plt.plot([j-1, j], [losses[j-1], losses[j]], color=color)\n",
    "            \n",
    "    plt.xlabel('datastream')\n",
    "    plt.ylabel('Loss')\n",
    "    plt.legend(loc='upper left', shadow=True, fontsize='large')\n",
    "\n",
    "            \n",
    "ani = FuncAnimation(plt.gcf(), animate, interval=1000)\n",
    "\n",
    "plt.show()"
   ]
  },
  {
   "cell_type": "code",
   "execution_count": 10,
   "id": "bd5e899b-fce3-49c9-86c6-f82d3d5dfcba",
   "metadata": {},
   "outputs": [],
   "source": [
    "ani.pause()"
   ]
  },
  {
   "cell_type": "code",
   "execution_count": null,
   "id": "5bc0b561-63f5-4998-b111-36ad1a5b9921",
   "metadata": {},
   "outputs": [],
   "source": []
  }
 ],
 "metadata": {
  "kernelspec": {
   "display_name": "Python 3 (ipykernel)",
   "language": "python",
   "name": "python3"
  },
  "language_info": {
   "codemirror_mode": {
    "name": "ipython",
    "version": 3
   },
   "file_extension": ".py",
   "mimetype": "text/x-python",
   "name": "python",
   "nbconvert_exporter": "python",
   "pygments_lexer": "ipython3",
   "version": "3.9.4"
  }
 },
 "nbformat": 4,
 "nbformat_minor": 5
}
