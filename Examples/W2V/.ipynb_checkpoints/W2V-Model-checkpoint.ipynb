{
 "cells": [
  {
   "cell_type": "code",
   "execution_count": 1,
   "id": "818e10b3-e71f-496a-b0a9-09f4fc3f59cb",
   "metadata": {},
   "outputs": [],
   "source": [
    "import tensorflow as tf\n",
    "import tensair_aux as tensair\n",
    "import os\n",
    "\n",
    "from tensorflow.keras.layers import Dot, Embedding, Flatten"
   ]
  },
  {
   "cell_type": "code",
   "execution_count": 2,
   "id": "ddcce787-c41f-4eec-804d-7080ab80257a",
   "metadata": {},
   "outputs": [
    {
     "data": {
      "text/plain": [
       "'2.9.2'"
      ]
     },
     "execution_count": 2,
     "metadata": {},
     "output_type": "execute_result"
    }
   ],
   "source": [
    "tf.version.VERSION"
   ]
  },
  {
   "cell_type": "markdown",
   "id": "dfad5e67-5428-4e34-80ab-bd8192cef86d",
   "metadata": {},
   "source": [
    "## Define TensorFlow Model\n",
    "\n",
    "One may create a TensorFlow model as usual but extending TensAIR instead of Model."
   ]
  },
  {
   "cell_type": "code",
   "execution_count": 3,
   "id": "f89a165a-9879-4760-bed9-87f3aad0d12a",
   "metadata": {},
   "outputs": [],
   "source": [
    "class Word2Vec(tensair.TensAIR):\n",
    "    def __init__(self,vocab_size,embedding_dim):\n",
    "        super(Word2Vec, self).__init__()\n",
    "        self.target_embedding = Embedding(input_dim=vocab_size, \n",
    "                                          output_dim=embedding_dim,\n",
    "                                          input_length=1,\n",
    "                                          name=\"w2v_embedding\", )\n",
    "\n",
    "        self.context_embedding = Embedding(input_dim=vocab_size, \n",
    "                                           output_dim=embedding_dim, \n",
    "                                           input_length=5)\n",
    "        self.dots = Dot(axes=(3,2))\n",
    "        self.flatten = Flatten()\n",
    "\n",
    "    @tf.function\n",
    "    def call(self, pair):\n",
    "        target, context = pair\n",
    "        we = self.target_embedding(target)\n",
    "        ce = self.context_embedding(context)\n",
    "        dots = self.dots([ce, we])\n",
    "        return self.flatten(dots)"
   ]
  },
  {
   "cell_type": "code",
   "execution_count": 4,
   "id": "c680bd71-7628-4b0a-bc10-cc0090d529c0",
   "metadata": {},
   "outputs": [],
   "source": [
    "#compile TensorFlow model as usual\n",
    "model = Word2Vec(50000,300)\n",
    "\n",
    "loss = tf.keras.losses.CategoricalCrossentropy(from_logits=True)\n",
    "opt = tf.keras.optimizers.SGD(learning_rate=1)\n",
    "\n",
    "model.compile(optimizer=opt,\n",
    "              loss=loss,\n",
    "              metrics=['accuracy'])"
   ]
  },
  {
   "cell_type": "markdown",
   "id": "59166e02-f5a6-4f24-9b6c-8664f0db3abe",
   "metadata": {},
   "source": [
    "# Prepare model for deployment\n",
    "\n",
    "To prepare the model for deployment, we initialize the TF graph making a test prediction.\n",
    "\n",
    "At last, we initialize the gradients that will be broadcasted via TensAIR (mandatory)"
   ]
  },
  {
   "cell_type": "code",
   "execution_count": 5,
   "id": "b014e48c-da71-46ef-8894-90af9f393acd",
   "metadata": {},
   "outputs": [
    {
     "name": "stderr",
     "output_type": "stream",
     "text": [
      "2024-03-06 18:47:51.135247: W tensorflow/core/platform/profile_utils/cpu_utils.cc:128] Failed to get CPU frequency: 0 Hz\n"
     ]
    },
    {
     "data": {
      "text/plain": [
       "<tf.Tensor: shape=(1, 5), dtype=float32, numpy=\n",
       "array([[ 0.00027147, -0.00612851,  0.03349737,  0.02972666,  0.00654743]],\n",
       "      dtype=float32)>"
      ]
     },
     "execution_count": 5,
     "metadata": {},
     "output_type": "execute_result"
    }
   ],
   "source": [
    "target = tf.constant([[1]])\n",
    "context = tf.constant([[[2],[3],[4],[5],[6]]])\n",
    "predict_example = (target,context)\n",
    "\n",
    "model.call(predict_example)"
   ]
  },
  {
   "cell_type": "code",
   "execution_count": 6,
   "id": "1f932916-d91c-4059-a138-756aeaca394d",
   "metadata": {},
   "outputs": [],
   "source": [
    "model.init_delta(model.trainable_weights)"
   ]
  },
  {
   "cell_type": "markdown",
   "id": "e6b96793-9193-479f-b2bd-1e272f6cd04c",
   "metadata": {},
   "source": [
    "# Save Model\n",
    "\n",
    "To save the model, we simply define the dimentions and types of the input tensors used during training, a pass those (along with the model) to the tensair.define_signatures function) to obtain the signature of the functions\n",
    "\n",
    "At last, we save the model on the desired location uwing the signatures previously obtained"
   ]
  },
  {
   "cell_type": "code",
   "execution_count": 7,
   "id": "b0846e87-40f5-4888-ad23-ce170093910d",
   "metadata": {},
   "outputs": [],
   "source": [
    "input_tensors_dims = [[None,1],[None,5,1],[None,5]]\n",
    "input_tensors_types = [tf.int32,tf.int32,tf.int32]\n",
    "input_tensors_structure = ((1,1),1)"
   ]
  },
  {
   "cell_type": "code",
   "execution_count": 8,
   "id": "b48a01dc-779a-4e9f-b959-ada1fe2c595b",
   "metadata": {},
   "outputs": [
    {
     "name": "stderr",
     "output_type": "stream",
     "text": [
      "/Users/mauro.dalleluccatosi/Documents/environments/tensair/lib/python3.9/site-packages/tensorflow/python/framework/indexed_slices.py:444: UserWarning: Converting sparse IndexedSlices(IndexedSlices(indices=Tensor(\"PartitionedCall:1\", shape=(None,), dtype=int32), values=Tensor(\"PartitionedCall:0\", shape=(None, 300), dtype=float32), dense_shape=Tensor(\"PartitionedCall:2\", shape=(2,), dtype=int32))) to a dense Tensor of unknown shape. This may consume a large amount of memory.\n",
      "  warnings.warn(\n",
      "/Users/mauro.dalleluccatosi/Documents/environments/tensair/lib/python3.9/site-packages/tensorflow/python/framework/indexed_slices.py:444: UserWarning: Converting sparse IndexedSlices(IndexedSlices(indices=Tensor(\"PartitionedCall:4\", shape=(None,), dtype=int32), values=Tensor(\"PartitionedCall:3\", shape=(None, 300), dtype=float32), dense_shape=Tensor(\"PartitionedCall:5\", shape=(2,), dtype=int32))) to a dense Tensor of unknown shape. This may consume a large amount of memory.\n",
      "  warnings.warn(\n"
     ]
    }
   ],
   "source": [
    "signatures = tensair.define_signatures(model, input_tensors_dims,input_tensors_types,input_tensors_structure)"
   ]
  },
  {
   "cell_type": "code",
   "execution_count": 9,
   "id": "7db6b193",
   "metadata": {},
   "outputs": [],
   "source": [
    "tensair_path = os.environ.get(\"TENSAIR_PATH\")"
   ]
  },
  {
   "cell_type": "code",
   "execution_count": 10,
   "id": "aa16a138-003d-4992-b145-871b562d0dff",
   "metadata": {},
   "outputs": [
    {
     "name": "stderr",
     "output_type": "stream",
     "text": [
      "/Users/mauro.dalleluccatosi/Documents/environments/tensair/lib/python3.9/site-packages/tensorflow/python/framework/indexed_slices.py:444: UserWarning: Converting sparse IndexedSlices(IndexedSlices(indices=Tensor(\"PartitionedCall:1\", shape=(None,), dtype=int32), values=Tensor(\"PartitionedCall:0\", shape=(None, 300), dtype=float32), dense_shape=Tensor(\"PartitionedCall:2\", shape=(2,), dtype=int32))) to a dense Tensor of unknown shape. This may consume a large amount of memory.\n",
      "  warnings.warn(\n",
      "/Users/mauro.dalleluccatosi/Documents/environments/tensair/lib/python3.9/site-packages/tensorflow/python/framework/indexed_slices.py:444: UserWarning: Converting sparse IndexedSlices(IndexedSlices(indices=Tensor(\"PartitionedCall:4\", shape=(None,), dtype=int32), values=Tensor(\"PartitionedCall:3\", shape=(None, 300), dtype=float32), dense_shape=Tensor(\"PartitionedCall:5\", shape=(2,), dtype=int32))) to a dense Tensor of unknown shape. This may consume a large amount of memory.\n",
      "  warnings.warn(\n"
     ]
    },
    {
     "name": "stdout",
     "output_type": "stream",
     "text": [
      "INFO:tensorflow:Assets written to: /Users/mauro.dalleluccatosi/Documents/GitHub-personal/TensAIR/data/w2v/w2v_model.tf/assets\n"
     ]
    }
   ],
   "source": [
    "model.save(tensair_path+\"/data/w2v/w2v_model.tf\", save_format=\"tf\", signatures=signatures)"
   ]
  },
  {
   "cell_type": "code",
   "execution_count": null,
   "id": "51167cf7-60f1-49f7-a72d-3387f4dbf749",
   "metadata": {},
   "outputs": [],
   "source": []
  }
 ],
 "metadata": {
  "kernelspec": {
   "display_name": "Python 3 (ipykernel)",
   "language": "python",
   "name": "python3"
  },
  "language_info": {
   "codemirror_mode": {
    "name": "ipython",
    "version": 3
   },
   "file_extension": ".py",
   "mimetype": "text/x-python",
   "name": "python",
   "nbconvert_exporter": "python",
   "pygments_lexer": "ipython3",
   "version": "3.9.4"
  }
 },
 "nbformat": 4,
 "nbformat_minor": 5
}
