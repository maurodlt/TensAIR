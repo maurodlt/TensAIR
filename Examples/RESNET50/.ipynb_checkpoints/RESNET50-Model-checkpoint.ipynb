{
 "cells": [
  {
   "cell_type": "code",
   "execution_count": 2,
   "id": "1fd42869-d75c-4217-9161-760559c260e0",
   "metadata": {},
   "outputs": [
    {
     "ename": "ModuleNotFoundError",
     "evalue": "No module named 'tensair_aux'",
     "output_type": "error",
     "traceback": [
      "\u001b[0;31m---------------------------------------------------------------------------\u001b[0m",
      "\u001b[0;31mModuleNotFoundError\u001b[0m                       Traceback (most recent call last)",
      "Input \u001b[0;32mIn [2]\u001b[0m, in \u001b[0;36m<cell line: 15>\u001b[0;34m()\u001b[0m\n\u001b[1;32m     12\u001b[0m \u001b[38;5;28;01mfrom\u001b[39;00m \u001b[38;5;21;01mtensorflow\u001b[39;00m\u001b[38;5;21;01m.\u001b[39;00m\u001b[38;5;21;01mkeras\u001b[39;00m\u001b[38;5;21;01m.\u001b[39;00m\u001b[38;5;21;01mmodels\u001b[39;00m \u001b[38;5;28;01mimport\u001b[39;00m load_model\n\u001b[1;32m     13\u001b[0m \u001b[38;5;28;01mfrom\u001b[39;00m \u001b[38;5;21;01mtensorflow\u001b[39;00m\u001b[38;5;21;01m.\u001b[39;00m\u001b[38;5;21;01mkeras\u001b[39;00m \u001b[38;5;28;01mimport\u001b[39;00m datasets, layers, models\n\u001b[0;32m---> 15\u001b[0m \u001b[38;5;28;01mimport\u001b[39;00m \u001b[38;5;21;01mtensair_aux\u001b[39;00m \u001b[38;5;28;01mas\u001b[39;00m \u001b[38;5;21;01mtensair\u001b[39;00m\n\u001b[1;32m     16\u001b[0m \u001b[38;5;28;01mfrom\u001b[39;00m \u001b[38;5;21;01mResNet50_tensorflow\u001b[39;00m \u001b[38;5;28;01mimport\u001b[39;00m ResNet\n",
      "\u001b[0;31mModuleNotFoundError\u001b[0m: No module named 'tensair_aux'"
     ]
    }
   ],
   "source": [
    "import tensorflow as tf\n",
    "import os\n",
    "import numpy as np\n",
    "from tensorflow.keras.models import Sequential\n",
    "from tensorflow.keras.layers import Dense, Flatten, GlobalAveragePooling2D, Dropout\n",
    "from tensorflow.keras.applications.vgg16 import VGG16\n",
    "from PIL import Image\n",
    "from tensorflow.keras import Model\n",
    "from tensorflow.python.keras.engine import data_adapter\n",
    "from tensorflow.python.eager import backprop\n",
    "from tensorflow.python.util import compat\n",
    "from tensorflow.keras.models import load_model\n",
    "from tensorflow.keras import datasets, layers, models\n",
    "\n",
    "import tensair_aux as tensair\n",
    "from ResNet50_tensorflow import ResNet"
   ]
  },
  {
   "cell_type": "markdown",
   "id": "1bb8b1db-3f46-4275-bd6b-6e773487546c",
   "metadata": {},
   "source": [
    "## Define TensorFlow Model\n",
    "\n",
    "One may create a TensorFlow model as usual but extending TensAIR instead of Model."
   ]
  },
  {
   "cell_type": "code",
   "execution_count": 15,
   "id": "43a02ad9-4986-4c07-afe0-760b9be5e1d0",
   "metadata": {},
   "outputs": [],
   "source": [
    "class VGG(tensair.TensAIR):\n",
    "    def __init__(self):\n",
    "        super(VGG, self).__init__()\n",
    "        self.l1 = VGG16(weights=None, classes=200, include_top=False, input_shape=(64,64,3))\n",
    "        self.l2 = Flatten()\n",
    "        self.l3 = Dense(4096, activation='relu')\n",
    "        #self.l4 = Dropout(rate=0.5)\n",
    "        self.l5 = Dense(4096, activation='relu')\n",
    "        #self.l6 = Dropout(rate=0.5)\n",
    "        self.l7 = Dense(200, activation='softmax')\n",
    "\n",
    "    @tf.function\n",
    "    def call(self, x):\n",
    "        x = self.l1(x)\n",
    "        x = self.l2(x)\n",
    "        x = self.l3(x)\n",
    "        #x = self.l4(x)\n",
    "        x = self.l5(x)\n",
    "        #x = self.l6(x)\n",
    "        x = self.l7(x)\n",
    "        return x"
   ]
  },
  {
   "cell_type": "code",
   "execution_count": 16,
   "id": "0aff5c07-d022-4d69-8db7-053828a7a7dd",
   "metadata": {},
   "outputs": [],
   "source": [
    "#compile TensorFlow model as usual\n",
    "loss = 'sparse_categorical_crossentropy'\n",
    "optimizer = 'sgd'\n",
    "metrics = ['accuracy']\n",
    "\n",
    "model = VGG()\n",
    "model.compile(\n",
    "    loss=loss, \n",
    "    optimizer=optimizer,   \n",
    "    metrics=metrics   \n",
    ")"
   ]
  },
  {
   "cell_type": "code",
   "execution_count": null,
   "id": "fa05b30f-0c77-4ca1-9819-87d13e05868e",
   "metadata": {},
   "outputs": [],
   "source": []
  },
  {
   "cell_type": "markdown",
   "id": "8ba66737-7710-44a2-9413-4d02b4cfd277",
   "metadata": {},
   "source": [
    "# Prepare model for deployment\n",
    "\n",
    "To prepare the model for deployment, we initialize the TF graph making a test prediction.\n",
    "\n",
    "At last, we initialize the gradients that will be broadcasted via TensAIR (mandatory)"
   ]
  },
  {
   "cell_type": "code",
   "execution_count": 18,
   "id": "d498b7b7-57f0-432d-9258-9b8ab0c66f6e",
   "metadata": {},
   "outputs": [
    {
     "name": "stdout",
     "output_type": "stream",
     "text": [
      "1/1 [==============================] - 0s 223ms/step\n"
     ]
    },
    {
     "data": {
      "text/plain": [
       "array([[0.005, 0.005, 0.005, 0.005, 0.005, 0.005, 0.005, 0.005, 0.005,\n",
       "        0.005, 0.005, 0.005, 0.005, 0.005, 0.005, 0.005, 0.005, 0.005,\n",
       "        0.005, 0.005, 0.005, 0.005, 0.005, 0.005, 0.005, 0.005, 0.005,\n",
       "        0.005, 0.005, 0.005, 0.005, 0.005, 0.005, 0.005, 0.005, 0.005,\n",
       "        0.005, 0.005, 0.005, 0.005, 0.005, 0.005, 0.005, 0.005, 0.005,\n",
       "        0.005, 0.005, 0.005, 0.005, 0.005, 0.005, 0.005, 0.005, 0.005,\n",
       "        0.005, 0.005, 0.005, 0.005, 0.005, 0.005, 0.005, 0.005, 0.005,\n",
       "        0.005, 0.005, 0.005, 0.005, 0.005, 0.005, 0.005, 0.005, 0.005,\n",
       "        0.005, 0.005, 0.005, 0.005, 0.005, 0.005, 0.005, 0.005, 0.005,\n",
       "        0.005, 0.005, 0.005, 0.005, 0.005, 0.005, 0.005, 0.005, 0.005,\n",
       "        0.005, 0.005, 0.005, 0.005, 0.005, 0.005, 0.005, 0.005, 0.005,\n",
       "        0.005, 0.005, 0.005, 0.005, 0.005, 0.005, 0.005, 0.005, 0.005,\n",
       "        0.005, 0.005, 0.005, 0.005, 0.005, 0.005, 0.005, 0.005, 0.005,\n",
       "        0.005, 0.005, 0.005, 0.005, 0.005, 0.005, 0.005, 0.005, 0.005,\n",
       "        0.005, 0.005, 0.005, 0.005, 0.005, 0.005, 0.005, 0.005, 0.005,\n",
       "        0.005, 0.005, 0.005, 0.005, 0.005, 0.005, 0.005, 0.005, 0.005,\n",
       "        0.005, 0.005, 0.005, 0.005, 0.005, 0.005, 0.005, 0.005, 0.005,\n",
       "        0.005, 0.005, 0.005, 0.005, 0.005, 0.005, 0.005, 0.005, 0.005,\n",
       "        0.005, 0.005, 0.005, 0.005, 0.005, 0.005, 0.005, 0.005, 0.005,\n",
       "        0.005, 0.005, 0.005, 0.005, 0.005, 0.005, 0.005, 0.005, 0.005,\n",
       "        0.005, 0.005, 0.005, 0.005, 0.005, 0.005, 0.005, 0.005, 0.005,\n",
       "        0.005, 0.005, 0.005, 0.005, 0.005, 0.005, 0.005, 0.005, 0.005,\n",
       "        0.005, 0.005]], dtype=float32)"
      ]
     },
     "execution_count": 18,
     "metadata": {},
     "output_type": "execute_result"
    }
   ],
   "source": [
    "x = tf.zeros((1, 64, 64, 3), dtype=float)\n",
    "\n",
    "model.predict(x)"
   ]
  },
  {
   "cell_type": "code",
   "execution_count": 19,
   "id": "39efc5a6-8150-4930-862b-d2308c92d607",
   "metadata": {},
   "outputs": [],
   "source": [
    "model.init_delta(model.trainable_weights)"
   ]
  },
  {
   "cell_type": "code",
   "execution_count": 20,
   "id": "c23aad1f-faff-44ed-81f6-4febc7d17406",
   "metadata": {},
   "outputs": [
    {
     "name": "stdout",
     "output_type": "stream",
     "text": [
      "Model: \"vgg_2\"\n",
      "_________________________________________________________________\n",
      " Layer (type)                Output Shape              Param #   \n",
      "=================================================================\n",
      " vgg16 (Functional)          (None, 2, 2, 512)         14714688  \n",
      "                                                                 \n",
      " flatten_2 (Flatten)         multiple                  0         \n",
      "                                                                 \n",
      " dense_6 (Dense)             multiple                  8392704   \n",
      "                                                                 \n",
      " dense_7 (Dense)             multiple                  16781312  \n",
      "                                                                 \n",
      " dense_8 (Dense)             multiple                  819400    \n",
      "                                                                 \n",
      "=================================================================\n",
      "Total params: 81,416,210\n",
      "Trainable params: 40,708,104\n",
      "Non-trainable params: 40,708,106\n",
      "_________________________________________________________________\n"
     ]
    }
   ],
   "source": [
    "model.summary()"
   ]
  },
  {
   "cell_type": "markdown",
   "id": "c02b7ec8-d9c2-40fe-b8f6-ca3252e1d8d5",
   "metadata": {},
   "source": [
    "# Save Model\n",
    "\n",
    "To save the model, we simply define the dimentions and types of the input tensors used during training, a pass those (along with the model) to the tensair.define_signatures function) to obtain the signature of the functions\n",
    "\n",
    "At last, we save the model on the desired location uwing the signatures previously obtained"
   ]
  },
  {
   "cell_type": "code",
   "execution_count": 6,
   "id": "7138f3eb-1b4a-4e5d-a61a-0898e21e6d79",
   "metadata": {},
   "outputs": [],
   "source": [
    "input_tensors_dims = [[None,64,64,3],[None]]\n",
    "input_tensors_types = [tf.float32,tf.int32]\n",
    "input_tensors_structure = (1,1)"
   ]
  },
  {
   "cell_type": "code",
   "execution_count": 7,
   "id": "95819dff-79ef-400f-b3f6-c079b8a06ee7",
   "metadata": {},
   "outputs": [],
   "source": [
    "signatures = tensair.define_signatures(model, input_tensors_dims,input_tensors_types,input_tensors_structure)"
   ]
  },
  {
   "cell_type": "code",
   "execution_count": 8,
   "id": "384a0354-fbbb-4e11-9e13-e0b05a22d087",
   "metadata": {},
   "outputs": [],
   "source": [
    "tensair_path = os.environ.get(\"TENSAIR_PATH\")"
   ]
  },
  {
   "cell_type": "code",
   "execution_count": 9,
   "id": "1d3d9a09-a508-4055-a685-1bb42637dbf4",
   "metadata": {},
   "outputs": [
    {
     "name": "stderr",
     "output_type": "stream",
     "text": [
      "WARNING:absl:Found untraced functions such as _jit_compiled_convolution_op, _jit_compiled_convolution_op, _jit_compiled_convolution_op, _jit_compiled_convolution_op, _jit_compiled_convolution_op while saving (showing 5 of 13). These functions will not be directly callable after loading.\n"
     ]
    },
    {
     "name": "stdout",
     "output_type": "stream",
     "text": [
      "INFO:tensorflow:Assets written to: /Users/mauro.dalleluccatosi/Documents/GitHub-personal/TensAIR/data/vgg16/vgg16_model.tf/assets\n"
     ]
    },
    {
     "name": "stderr",
     "output_type": "stream",
     "text": [
      "INFO:tensorflow:Assets written to: /Users/mauro.dalleluccatosi/Documents/GitHub-personal/TensAIR/data/vgg16/vgg16_model.tf/assets\n"
     ]
    }
   ],
   "source": [
    "model.save(tensair_path+\"/data/vgg16/vgg16_model.tf\", save_format=\"tf\", signatures=signatures)"
   ]
  },
  {
   "cell_type": "code",
   "execution_count": null,
   "id": "ed296cba-24bf-4b3b-8c92-d0fc71bf5cc1",
   "metadata": {},
   "outputs": [],
   "source": []
  }
 ],
 "metadata": {
  "kernelspec": {
   "display_name": "Python 3 (ipykernel)",
   "language": "python",
   "name": "python3"
  },
  "language_info": {
   "codemirror_mode": {
    "name": "ipython",
    "version": 3
   },
   "file_extension": ".py",
   "mimetype": "text/x-python",
   "name": "python",
   "nbconvert_exporter": "python",
   "pygments_lexer": "ipython3",
   "version": "3.9.4"
  }
 },
 "nbformat": 4,
 "nbformat_minor": 5
}
