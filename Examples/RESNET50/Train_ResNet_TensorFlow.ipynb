{
 "cells": [
  {
   "cell_type": "code",
   "execution_count": 1,
   "id": "5b20e742-0cbf-4f2a-9e90-7b9d628e81ba",
   "metadata": {},
   "outputs": [],
   "source": [
    "from datasets import load_dataset\n",
    "import numpy as np\n",
    "import struct\n",
    "from PIL import Image"
   ]
  },
  {
   "cell_type": "markdown",
   "id": "e361910c-df22-46e3-8de3-4588a3d27fe2",
   "metadata": {},
   "source": [
    "## Prepare data"
   ]
  },
  {
   "cell_type": "code",
   "execution_count": null,
   "id": "e2e555d7-d113-454f-9ef7-4e0796f45182",
   "metadata": {},
   "outputs": [],
   "source": [
    "# Set random seed\n",
    "tf.random.set_seed(42)  # You can replace 42 with any integer value you prefer"
   ]
  },
  {
   "cell_type": "code",
   "execution_count": 3,
   "id": "8c6b90b3-f21a-42bb-a22c-c19408468094",
   "metadata": {},
   "outputs": [],
   "source": [
    "train_file_path = '/Users/mauro.dalleluccatosi/Documents/Convergence_Analysis/datasets/tiny_imagenet/train.bin' \n",
    "val_file_path = '/Users/mauro.dalleluccatosi/Documents/Convergence_Analysis/datasets/tiny_imagenet/val.bin'  "
   ]
  },
  {
   "cell_type": "code",
   "execution_count": 4,
   "id": "960bd72c-c182-45df-bc18-8fb3c829e487",
   "metadata": {},
   "outputs": [],
   "source": [
    "classes=200\n",
    "input_shape=(64,64,3)"
   ]
  },
  {
   "cell_type": "code",
   "execution_count": 5,
   "id": "9807a156-d857-450b-85e7-6a2ec481a864",
   "metadata": {},
   "outputs": [],
   "source": [
    "def read_image_label(file):\n",
    "    image_size = 64*64*3\n",
    "    image = file.read(image_size)\n",
    "    label = file.read(1)\n",
    "    \n",
    "    return image, int.from_bytes(label, byteorder='little')"
   ]
  },
  {
   "cell_type": "code",
   "execution_count": 6,
   "id": "0618dcc8-6865-472d-84e3-8eccc186dfc1",
   "metadata": {},
   "outputs": [],
   "source": [
    "def decode_image(image_bytes):\n",
    "    # creare int array\n",
    "    int_array = [int(byte) for byte in image_bytes]\n",
    "\n",
    "    #convert int array into numpy array \n",
    "    image_np = np.array(int_array, dtype=np.uint8).reshape((64,64,3))\n",
    "\n",
    "    return image_np"
   ]
  },
  {
   "cell_type": "code",
   "execution_count": 7,
   "id": "86011147-5f0c-4932-8363-ed02387b846a",
   "metadata": {},
   "outputs": [],
   "source": [
    "trainset_lenght = 100000\n",
    "#trainset_lenght = 1000\n",
    "train_images = []\n",
    "train_labels = []\n",
    "\n",
    "with open(train_file_path, 'rb') as file:\n",
    "    for i in range(trainset_lenght):\n",
    "        image, label = read_image_label(file)\n",
    "        decoded_image = decode_image(image)\n",
    "        train_images.append(decoded_image)\n",
    "        train_labels.append(label)\n",
    "    \n",
    "train_labels = np.stack(train_labels)\n",
    "train_images = np.stack(train_images)"
   ]
  },
  {
   "cell_type": "code",
   "execution_count": 8,
   "id": "32269383-ca4e-419e-9fd1-45129a3e0fa5",
   "metadata": {},
   "outputs": [
    {
     "data": {
      "image/png": "[encoded data removed]",
      "text/plain": [
       "<PIL.Image.Image image mode=RGB size=64x64>"
      ]
     },
     "execution_count": 8,
     "metadata": {},
     "output_type": "execute_result"
    }
   ],
   "source": [
    "Image.fromarray(train_images[0])"
   ]
  },
  {
   "cell_type": "markdown",
   "id": "47596fc9-b753-47d2-b01e-0dc89c816779",
   "metadata": {},
   "source": [
    "### Normalize training image"
   ]
  },
  {
   "cell_type": "code",
   "execution_count": 9,
   "id": "d96578cc-37b1-4ac2-ad03-94e706a44a8b",
   "metadata": {},
   "outputs": [],
   "source": [
    "scaled_train_images = train_images / 255.0"
   ]
  },
  {
   "cell_type": "markdown",
   "id": "2b7b7d85-a742-4db7-821f-f6e781874d01",
   "metadata": {},
   "source": [
    "mean = np.mean(scaled_train_images, axis=(0, 1, 2))  # Calculate mean per channel\n",
    "std = np.std(scaled_train_images, axis=(0, 1, 2))  # Calculate standard deviation per channel\n",
    "print(mean, std)"
   ]
  },
  {
   "cell_type": "code",
   "execution_count": 10,
   "id": "27b7aab1-5fe5-4a9c-8500-e3137ea72511",
   "metadata": {},
   "outputs": [],
   "source": [
    "mean = np.array([0.4802, 0.4481, 0.3975])\n",
    "std = np.array([0.2296, 0.2263, 0.2255])"
   ]
  },
  {
   "cell_type": "code",
   "execution_count": 11,
   "id": "e1db530b-0fef-45e9-bdc2-97ed17855d7b",
   "metadata": {},
   "outputs": [],
   "source": [
    "normalized_train_images = (scaled_train_images - mean) / (std)  # Adding a small constant to prevent division by zero"
   ]
  },
  {
   "cell_type": "code",
   "execution_count": 12,
   "id": "26c2a09b-699a-45d8-8c29-e0b9990deed1",
   "metadata": {},
   "outputs": [],
   "source": [
    "train_images = np.stack(normalized_train_images, axis=0)"
   ]
  },
  {
   "cell_type": "code",
   "execution_count": null,
   "id": "dcf1cd24-d25d-4f41-b052-02aec9e4411a",
   "metadata": {},
   "outputs": [],
   "source": []
  },
  {
   "cell_type": "markdown",
   "id": "22d40e0b-5af1-4b4e-ba89-71e06104f3ee",
   "metadata": {},
   "source": [
    "## Load Model"
   ]
  },
  {
   "cell_type": "code",
   "execution_count": 13,
   "id": "5eb1660c-0c12-47f0-9725-bf3521e3a77c",
   "metadata": {},
   "outputs": [],
   "source": [
    "from ResNet50_tensorflow import ResNet"
   ]
  },
  {
   "cell_type": "code",
   "execution_count": 18,
   "id": "503aa3a2-c69c-4a66-a291-b84f83dc0e6a",
   "metadata": {},
   "outputs": [],
   "source": [
    "loss = 'sparse_categorical_crossentropy'\n",
    "optimizer = 'sgd'\n",
    "metrics = ['accuracy']"
   ]
  },
  {
   "cell_type": "code",
   "execution_count": 19,
   "id": "4cd5c7d9-d7a4-4551-bfc1-7e4aa8a6993b",
   "metadata": {},
   "outputs": [],
   "source": [
    "model = ResNet()\n",
    "model.compile(\n",
    "    loss=loss, \n",
    "    optimizer=optimizer,   \n",
    "    metrics=metrics   \n",
    ")"
   ]
  },
  {
   "cell_type": "markdown",
   "id": "bd7f3992-149c-4afb-a2d1-812d923609d4",
   "metadata": {
    "tags": []
   },
   "source": [
    "## Train model"
   ]
  },
  {
   "cell_type": "code",
   "execution_count": 20,
   "id": "e8115844-be32-4359-bfc9-41d5783279d6",
   "metadata": {},
   "outputs": [],
   "source": [
    "batch_size = 128\n",
    "epochs=5"
   ]
  },
  {
   "cell_type": "code",
   "execution_count": 21,
   "id": "e186b49a-bda5-49ab-ab97-39c0b1590642",
   "metadata": {},
   "outputs": [
    {
     "name": "stdout",
     "output_type": "stream",
     "text": [
      "Epoch 1/5\n",
      "782/782 [==============================] - 1962s 2s/step - loss: 9.3710 - accuracy: 0.0050\n",
      "Epoch 2/5\n",
      "782/782 [==============================] - 1853s 2s/step - loss: 8.2421 - accuracy: 0.0051\n",
      "Epoch 3/5\n",
      "782/782 [==============================] - 1870s 2s/step - loss: 7.7421 - accuracy: 0.0050\n",
      "Epoch 4/5\n",
      "782/782 [==============================] - 1786s 2s/step - loss: 7.5571 - accuracy: 0.0050\n",
      "Epoch 5/5\n",
      "782/782 [==============================] - 1849s 2s/step - loss: 7.4529 - accuracy: 0.0050\n"
     ]
    }
   ],
   "source": [
    "history = model.fit(train_images, train_labels, epochs=epochs, batch_size=batch_size, shuffle=True)"
   ]
  },
  {
   "cell_type": "code",
   "execution_count": null,
   "id": "7831ff6f-e366-44f1-8199-4de33bc61a88",
   "metadata": {},
   "outputs": [],
   "source": []
  }
 ],
 "metadata": {
  "kernelspec": {
   "display_name": "Python 3 (ipykernel)",
   "language": "python",
   "name": "python3"
  },
  "language_info": {
   "codemirror_mode": {
    "name": "ipython",
    "version": 3
   },
   "file_extension": ".py",
   "mimetype": "text/x-python",
   "name": "python",
   "nbconvert_exporter": "python",
   "pygments_lexer": "ipython3",
   "version": "3.9.4"
  }
 },
 "nbformat": 4,
 "nbformat_minor": 5
}
