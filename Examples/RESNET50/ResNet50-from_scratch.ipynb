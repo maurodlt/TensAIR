{
 "cells": [
  {
   "cell_type": "code",
   "execution_count": 1,
   "id": "d8fcf102-478f-4b00-8c77-d4ec03c6e853",
   "metadata": {},
   "outputs": [],
   "source": [
    "import tensorflow as tf"
   ]
  },
  {
   "cell_type": "code",
   "execution_count": 2,
   "id": "8d897b06-025d-4b08-8b28-6bfcf6e62a91",
   "metadata": {},
   "outputs": [],
   "source": [
    "class Bottleneck(tf.keras.layers.Layer):\n",
    "    def __init__(self, in_channels, intermediate_channels, expansion, is_Bottleneck, stride):\n",
    "        super(Bottleneck, self).__init__()\n",
    "        self.expansion = expansion\n",
    "        self.in_channels = in_channels\n",
    "        self.intermediate_channels = intermediate_channels\n",
    "        self.is_Bottleneck = is_Bottleneck\n",
    "        self.stride = stride\n",
    "\n",
    "        if self.in_channels == self.intermediate_channels * self.expansion:\n",
    "            self.identity = True\n",
    "        else:\n",
    "            self.identity = False\n",
    "            self.projection = tf.keras.Sequential([\n",
    "                tf.keras.layers.Conv2D(self.intermediate_channels * self.expansion, kernel_size=1, strides=stride, padding='valid', use_bias=False),\n",
    "                tf.keras.layers.BatchNormalization()\n",
    "            ])\n",
    "\n",
    "        self.relu = tf.keras.layers.ReLU()\n",
    "\n",
    "        if self.is_Bottleneck:\n",
    "            self.conv1_1x1 = tf.keras.layers.Conv2D(self.intermediate_channels, kernel_size=1, strides=1, padding='valid', use_bias=False)\n",
    "            self.batchnorm1 = tf.keras.layers.BatchNormalization()\n",
    "\n",
    "            self.conv2_3x3 = tf.keras.layers.Conv2D(self.intermediate_channels, kernel_size=3, strides=stride, padding='same', use_bias=False)\n",
    "            self.batchnorm2 = tf.keras.layers.BatchNormalization()\n",
    "\n",
    "            self.conv3_1x1 = tf.keras.layers.Conv2D(self.intermediate_channels * self.expansion, kernel_size=1, strides=1, padding='valid', use_bias=False)\n",
    "            self.batchnorm3 = tf.keras.layers.BatchNormalization()\n",
    "\n",
    "        else:\n",
    "            self.conv1_3x3 = tf.keras.layers.Conv2D(self.intermediate_channels, kernel_size=3, strides=stride, padding='same', use_bias=False)\n",
    "            self.batchnorm1 = tf.keras.layers.BatchNormalization()\n",
    "\n",
    "            self.conv2_3x3 = tf.keras.layers.Conv2D(self.intermediate_channels, kernel_size=3, strides=1, padding='same', use_bias=False)\n",
    "            self.batchnorm2 = tf.keras.layers.BatchNormalization()\n",
    "\n",
    "    def call(self, inputs):\n",
    "        in_x = inputs\n",
    "\n",
    "        if self.is_Bottleneck:\n",
    "            x = self.relu(self.batchnorm1(self.conv1_1x1(inputs)))\n",
    "            x = self.relu(self.batchnorm2(self.conv2_3x3(x)))\n",
    "            x = self.batchnorm3(self.conv3_1x1(x))\n",
    "\n",
    "        else:\n",
    "            x = self.relu(self.batchnorm1(self.conv1_3x3(inputs)))\n",
    "            x = self.batchnorm2(self.conv2_3x3(x))\n",
    "\n",
    "        if self.identity:\n",
    "            x += in_x\n",
    "        else:\n",
    "            x += self.projection(in_x)\n",
    "\n",
    "        x = self.relu(x)\n",
    "\n",
    "        return x\n"
   ]
  },
  {
   "cell_type": "code",
   "execution_count": 3,
   "id": "b9adb6ca-771d-4067-ad48-6e4b8d09d12d",
   "metadata": {},
   "outputs": [],
   "source": [
    "class ResNet(tf.keras.Model):\n",
    "    def __init__(self, resnet_variant, in_channels, num_classes):\n",
    "        super(ResNet, self).__init__()\n",
    "        self.channels_list = resnet_variant[0]\n",
    "        self.repeatition_list = resnet_variant[1]\n",
    "        self.expansion = resnet_variant[2]\n",
    "        self.is_Bottleneck = resnet_variant[3]\n",
    "\n",
    "        self.conv1 = tf.keras.layers.Conv2D(64, kernel_size=7, strides=2, padding='same', use_bias=False)\n",
    "        self.batchnorm1 = tf.keras.layers.BatchNormalization()\n",
    "        self.relu = tf.keras.layers.ReLU()\n",
    "        self.maxpool = tf.keras.layers.MaxPool2D(pool_size=3, strides=2, padding='same')\n",
    "\n",
    "        self.block1 = self._make_blocks(64, self.channels_list[0], self.repeatition_list[0], self.expansion, self.is_Bottleneck, stride=1)\n",
    "        self.block2 = self._make_blocks(self.channels_list[0] * self.expansion, self.channels_list[1], self.repeatition_list[1], self.expansion, self.is_Bottleneck, stride=2)\n",
    "        self.block3 = self._make_blocks(self.channels_list[1] * self.expansion, self.channels_list[2], self.repeatition_list[2], self.expansion, self.is_Bottleneck, stride=2)\n",
    "        self.block4 = self._make_blocks(self.channels_list[2] * self.expansion, self.channels_list[3], self.repeatition_list[3], self.expansion, self.is_Bottleneck, stride=2)\n",
    "\n",
    "        self.average_pool = tf.keras.layers.GlobalAveragePooling2D()\n",
    "        self.fc1 = tf.keras.layers.Dense(num_classes)\n",
    "\n",
    "    def call(self, inputs):\n",
    "        x = self.relu(self.batchnorm1(self.conv1(inputs)))\n",
    "        x = self.maxpool(x)\n",
    "        x = self.block1(x)\n",
    "        x = self.block2(x)\n",
    "        x = self.block3(x)\n",
    "        x = self.block4(x)\n",
    "        x = self.average_pool(x)\n",
    "        x = self.fc1(x)\n",
    "        return x\n",
    "\n",
    "    def _make_blocks(self, in_channels, intermediate_channels, num_repeat, expansion, is_Bottleneck, stride):\n",
    "        layers = []\n",
    "        layers.append(Bottleneck(in_channels, intermediate_channels, expansion, is_Bottleneck, stride=stride))\n",
    "        for num in range(1, num_repeat):\n",
    "            layers.append(Bottleneck(intermediate_channels * expansion, intermediate_channels, expansion, is_Bottleneck, stride=1))\n",
    "        return tf.keras.Sequential(layers)"
   ]
  },
  {
   "cell_type": "code",
   "execution_count": 4,
   "id": "528659a2-7aed-4530-9fd6-c37c1e11a090",
   "metadata": {},
   "outputs": [],
   "source": [
    "# Example usage:\n",
    "params = [[64, 128, 256, 512], [3, 4, 6, 3], 4, True]\n",
    "model = ResNet(params, in_channels=3, num_classes=200)"
   ]
  },
  {
   "cell_type": "code",
   "execution_count": 9,
   "id": "741f0caf-c13b-4179-95a3-3feb231ac6b7",
   "metadata": {},
   "outputs": [
    {
     "name": "stdout",
     "output_type": "stream",
     "text": [
      "(1, 200)\n"
     ]
    }
   ],
   "source": [
    "x = tf.random.normal((1, 64, 64, 3))\n",
    "output = model(x)\n",
    "print(output.shape)  # Shape of the output tensor"
   ]
  },
  {
   "cell_type": "code",
   "execution_count": 10,
   "id": "e02d1f4a-ce64-4ccb-a53f-836bce8ccddc",
   "metadata": {},
   "outputs": [
    {
     "name": "stdout",
     "output_type": "stream",
     "text": [
      "Model: \"res_net\"\n",
      "_________________________________________________________________\n",
      " Layer (type)                Output Shape              Param #   \n",
      "=================================================================\n",
      " conv2d (Conv2D)             multiple                  9408      \n",
      "                                                                 \n",
      " batch_normalization (BatchN  multiple                 256       \n",
      " ormalization)                                                   \n",
      "                                                                 \n",
      " re_lu (ReLU)                multiple                  0         \n",
      "                                                                 \n",
      " max_pooling2d (MaxPooling2D  multiple                 0         \n",
      " )                                                               \n",
      "                                                                 \n",
      " sequential_1 (Sequential)   (None, 16, 16, 256)       218624    \n",
      "                                                                 \n",
      " sequential_3 (Sequential)   (None, 8, 8, 512)         1226752   \n",
      "                                                                 \n",
      " sequential_5 (Sequential)   (None, 4, 4, 1024)        7118848   \n",
      "                                                                 \n",
      " sequential_7 (Sequential)   (None, 2, 2, 2048)        14987264  \n",
      "                                                                 \n",
      " global_average_pooling2d (G  multiple                 0         \n",
      " lobalAveragePooling2D)                                          \n",
      "                                                                 \n",
      " dense (Dense)               multiple                  409800    \n",
      "                                                                 \n",
      "=================================================================\n",
      "Total params: 23,970,952\n",
      "Trainable params: 23,917,832\n",
      "Non-trainable params: 53,120\n",
      "_________________________________________________________________\n"
     ]
    }
   ],
   "source": [
    "model.summary()"
   ]
  },
  {
   "cell_type": "code",
   "execution_count": null,
   "id": "81027cee-5670-4056-8a9b-05e42e00388e",
   "metadata": {},
   "outputs": [],
   "source": []
  },
  {
   "cell_type": "code",
   "execution_count": 11,
   "id": "666541ad-fa82-46c9-bd03-c9515bc7b55a",
   "metadata": {},
   "outputs": [],
   "source": [
    "from ResNet50_tensorflow import ResNet"
   ]
  },
  {
   "cell_type": "code",
   "execution_count": 12,
   "id": "695fa86a-a60d-4da6-a6fa-dfe759d3b967",
   "metadata": {},
   "outputs": [],
   "source": [
    "model = ResNet()"
   ]
  },
  {
   "cell_type": "code",
   "execution_count": 15,
   "id": "82e9d0d8-67d8-4589-9338-0e9775dbff17",
   "metadata": {},
   "outputs": [],
   "source": [
    "x = tf.random.normal((1, 64, 64, 3))\n",
    "output = model(x)"
   ]
  },
  {
   "cell_type": "code",
   "execution_count": 16,
   "id": "4ed73f94-0236-4df0-9ede-74b591368b1e",
   "metadata": {},
   "outputs": [
    {
     "name": "stdout",
     "output_type": "stream",
     "text": [
      "Model: \"res_net_1\"\n",
      "_________________________________________________________________\n",
      " Layer (type)                Output Shape              Param #   \n",
      "=================================================================\n",
      " conv2d_53 (Conv2D)          multiple                  9408      \n",
      "                                                                 \n",
      " batch_normalization_53 (Bat  multiple                 256       \n",
      " chNormalization)                                                \n",
      "                                                                 \n",
      " re_lu_17 (ReLU)             multiple                  0         \n",
      "                                                                 \n",
      " max_pooling2d_1 (MaxPooling  multiple                 0         \n",
      " 2D)                                                             \n",
      "                                                                 \n",
      " sequential_9 (Sequential)   (1, 16, 16, 256)          218624    \n",
      "                                                                 \n",
      " sequential_11 (Sequential)  (1, 8, 8, 512)            1226752   \n",
      "                                                                 \n",
      " sequential_13 (Sequential)  (1, 4, 4, 1024)           7118848   \n",
      "                                                                 \n",
      " sequential_15 (Sequential)  (1, 2, 2, 2048)           14987264  \n",
      "                                                                 \n",
      " global_average_pooling2d_1   multiple                 0         \n",
      " (GlobalAveragePooling2D)                                        \n",
      "                                                                 \n",
      " dense_1 (Dense)             multiple                  409800    \n",
      "                                                                 \n",
      "=================================================================\n",
      "Total params: 23,970,952\n",
      "Trainable params: 23,917,832\n",
      "Non-trainable params: 53,120\n",
      "_________________________________________________________________\n"
     ]
    }
   ],
   "source": [
    "model.summary()"
   ]
  },
  {
   "cell_type": "code",
   "execution_count": null,
   "id": "d02991b7-33cf-4a8e-8afd-45c3d33a5f90",
   "metadata": {},
   "outputs": [],
   "source": []
  }
 ],
 "metadata": {
  "kernelspec": {
   "display_name": "Python 3 (ipykernel)",
   "language": "python",
   "name": "python3"
  },
  "language_info": {
   "codemirror_mode": {
    "name": "ipython",
    "version": 3
   },
   "file_extension": ".py",
   "mimetype": "text/x-python",
   "name": "python",
   "nbconvert_exporter": "python",
   "pygments_lexer": "ipython3",
   "version": "3.9.4"
  }
 },
 "nbformat": 4,
 "nbformat_minor": 5
}
