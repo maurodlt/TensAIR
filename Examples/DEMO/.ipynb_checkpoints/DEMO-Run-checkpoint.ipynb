{
 "cells": [
  {
   "cell_type": "markdown",
   "id": "e60743fa-4172-4837-bef2-f5d930aec9d9",
   "metadata": {},
   "source": [
    "# Run DEMO"
   ]
  },
  {
   "cell_type": "code",
   "execution_count": 1,
   "id": "f9e2942d-a02e-4c08-b451-4133ebae374e",
   "metadata": {},
   "outputs": [],
   "source": [
    "#https://kb.oakland.edu/uts/HPCJupyterMPI\n",
    "import ipyparallel as ipp"
   ]
  },
  {
   "cell_type": "code",
   "execution_count": 2,
   "id": "cc3c8218-9d5e-4a92-8f0d-618e407c05f9",
   "metadata": {
    "tags": []
   },
   "outputs": [],
   "source": [
    "def mpi_code():\n",
    "    from mpi4py import MPI\n",
    "    import tensair_py\n",
    "    import os\n",
    "    comm = MPI.COMM_WORLD\n",
    "    tensair_path = os.environ.get(\"TENSAIR_PATH\")\n",
    "\n",
    "    mini_batch_size = 128\n",
    "    msg_sec = 200    \n",
    "    init_code= tensair_path + \"/Examples/Demo_Init.py\"\n",
    "    event_generator = tensair_py.UDF_EventGenerator(mpi_comm=comm, tag=1, mini_batch_size=mini_batch_size, msg_sec=msg_sec, init_code=init_code)\n",
    "\n",
    "    inputMaxSize = 4+4+ (8*2) + (4*mini_batch_size) + (4*mini_batch_size*32*32*3)\n",
    "    gradientsMaxSize = 8+4+4+4+4+(8*12) + (4*((64*10) + (10) + (3*3*3*32) + (32) + (3*3*32*64) + (64) + (3*3*64*64) + (64) + (1024*64) + (64)))\n",
    "    window_size = max(inputMaxSize, gradientsMaxSize)\n",
    "    saved_model_dir = tensair_path + \"/data/demo/cifar_model_demo.tf\"  #Created using DEMO-Model notebook\n",
    "    model = tensair_py.TensAIR(mpi_comm=comm, tag=2, window_size=window_size, saved_model_dir=saved_model_dir)\n",
    "\n",
    "    drift_detector = tensair_py.OPTWIN_drift_detector(mpi_comm=comm, tag=3)\n",
    "\n",
    "    operators = [event_generator, model, drift_detector]\n",
    "    links = [[0,1],[1,1],[1,2],[2,1]]\n",
    "    basic_dataflow = tensair_py.BasicDataflow(mpi_comm=comm, operators=operators, links=links)\n",
    "    print(\"Starting dataflow\")\n",
    "    basic_dataflow.streamProcess()\n"
   ]
  },
  {
   "cell_type": "code",
   "execution_count": 3,
   "id": "9766e6b7-a576-4bd3-a5d7-c22d4334a1df",
   "metadata": {},
   "outputs": [
    {
     "name": "stdout",
     "output_type": "stream",
     "text": [
      "Starting 2 engines with <class 'ipyparallel.cluster.launcher.MPIEngineSetLauncher'>\n"
     ]
    },
    {
     "data": {
      "application/vnd.jupyter.widget-view+json": {
       "model_id": "f2275506da9844dea304bf15c496f8f9",
       "version_major": 2,
       "version_minor": 0
      },
      "text/plain": [
       "  0%|          | 0/2 [00:00<?, ?engine/s]"
      ]
     },
     "metadata": {},
     "output_type": "display_data"
    }
   ],
   "source": [
    "rc = ipp.Cluster(controller_ip=\"*\", engines=\"mpi\", n=2).start_and_connect_sync()"
   ]
  },
  {
   "cell_type": "code",
   "execution_count": 4,
   "id": "428e6f00-3f4b-4d21-a154-920c39b947d7",
   "metadata": {},
   "outputs": [],
   "source": [
    "view = rc.broadcast_view()"
   ]
  },
  {
   "cell_type": "code",
   "execution_count": 5,
   "id": "5c822da3-24c5-475f-a7ca-b8e52132d784",
   "metadata": {},
   "outputs": [],
   "source": [
    "ar_list = [view.apply_async(mpi_code, 2)]"
   ]
  },
  {
   "cell_type": "code",
   "execution_count": 6,
   "id": "f7edbc8e-de09-4d5c-9eab-56baaf13c3ba",
   "metadata": {},
   "outputs": [],
   "source": [
    "asyn_run = view.apply_async(mpi_code)"
   ]
  },
  {
   "cell_type": "code",
   "execution_count": 7,
   "id": "d7560cfa-1fad-465d-80e4-da758a9f8175",
   "metadata": {},
   "outputs": [
    {
     "data": {
      "text/plain": [
       "<AsyncResult(mpi_code): pending>"
      ]
     },
     "execution_count": 7,
     "metadata": {},
     "output_type": "execute_result"
    }
   ],
   "source": [
    "asyn_run"
   ]
  },
  {
   "cell_type": "markdown",
   "id": "cb3fe8ec-9a55-4721-8e99-e2fb8b02b7da",
   "metadata": {},
   "source": [
    "# Visualize Results\n",
    "\n",
    "The visualization does not work on jupyter lab, only on jupyter notebook"
   ]
  },
  {
   "cell_type": "code",
   "execution_count": 8,
   "id": "f3afa2b2-7c68-4c2c-921f-218b7cc18f5b",
   "metadata": {},
   "outputs": [],
   "source": [
    "%matplotlib ipympl\n",
    "from itertools import count\n",
    "import pandas as pd\n",
    "import matplotlib.pyplot as plt\n",
    "from matplotlib.animation import FuncAnimation\n",
    "import time\n",
    "import os"
   ]
  },
  {
   "cell_type": "code",
   "execution_count": 9,
   "id": "3fe347d0-983f-447d-bb29-6931d43d19ea",
   "metadata": {},
   "outputs": [
    {
     "data": {
      "application/vnd.jupyter.widget-view+json": {
       "model_id": "8e694601cc0d418595d4c6c651115a9a",
       "version_major": 2,
       "version_minor": 0
      },
      "image/png": "[encoded data removed]",
      "text/html": [
       "\n",
       "            <div style=\"display: inline-block;\">\n",
       "                <div class=\"jupyter-widgets widget-label\" style=\"text-align: center;\">\n",
       "                    Figure\n",
       "                </div>\n",
       "                <img src='data:image/png;base64,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' width=640.0/>\n",
       "            </div>\n",
       "        "
      ],
      "text/plain": [
       "Canvas(toolbar=Toolbar(toolitems=[('Home', 'Reset original view', 'home', 'home'), ('Back', 'Back to previous …"
      ]
     },
     "metadata": {},
     "output_type": "display_data"
    }
   ],
   "source": [
    "index = count()\n",
    "losses = []\n",
    "accs = []\n",
    "conditions = []\n",
    "conditions_first = {'blue': True, 'red': True}\n",
    "wainting_file = True\n",
    "\n",
    "tensair_path = os.environ.get(\"TENSAIR_PATH\")\n",
    "outputfile = tensair_path + \"/output/0.csv\"\n",
    "\n",
    "\n",
    "while(wainting_file):\n",
    "    try: \n",
    "        myfile = open(outputfile, \"r\")\n",
    "        wainting_file = False\n",
    "    except:\n",
    "        time.sleep(1)\n",
    "    \n",
    "def animate(i):\n",
    "    global losses, conditions\n",
    "    while True:\n",
    "        line = myfile.readline()\n",
    "        if line != \"\":\n",
    "            parts = line.split(',')\n",
    "            losses.append(float(parts[2]))\n",
    "            conditions.append(parts[0])  # Assume this is the condition\n",
    "        else:\n",
    "            break\n",
    "\n",
    "    plt.cla()  # Clear the axes to avoid drawing over the old lines\n",
    "\n",
    "    # Plot each segment with a color based on the condition\n",
    "    for j in range(1, len(losses)):\n",
    "        color = 'blue' if conditions[j] == 'training' else 'red'\n",
    "        if conditions_first[color]:\n",
    "            plt.plot([j-1, j], [losses[j-1], losses[j]], color=color, label=conditions[j])\n",
    "            conditions_first[color] = False\n",
    "        else:\n",
    "            plt.plot([j-1, j], [losses[j-1], losses[j]], color=color)\n",
    "            \n",
    "    plt.xlabel('datastream')\n",
    "    plt.ylabel('Loss')\n",
    "    plt.legend(loc='upper left', shadow=True, fontsize='large')\n",
    "\n",
    "            \n",
    "ani = FuncAnimation(plt.gcf(), animate, interval=1000)\n",
    "\n",
    "plt.show()"
   ]
  },
  {
   "cell_type": "code",
   "execution_count": null,
   "id": "b65e09f4-a21b-4479-9627-232ed0d1dce0",
   "metadata": {},
   "outputs": [],
   "source": [
    "#ani.pause()"
   ]
  }
 ],
 "metadata": {
  "kernelspec": {
   "display_name": "Python 3 (ipykernel)",
   "language": "python",
   "name": "python3"
  },
  "language_info": {
   "codemirror_mode": {
    "name": "ipython",
    "version": 3
   },
   "file_extension": ".py",
   "mimetype": "text/x-python",
   "name": "python",
   "nbconvert_exporter": "python",
   "pygments_lexer": "ipython3",
   "version": "3.9.4"
  }
 },
 "nbformat": 4,
 "nbformat_minor": 5
}
