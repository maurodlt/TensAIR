{
 "cells": [
  {
   "cell_type": "code",
   "execution_count": 1,
   "id": "d0af8449-6545-4dd4-a919-ec93c221a916",
   "metadata": {},
   "outputs": [],
   "source": [
    "import tensair_aux as tensair\n",
    "\n",
    "import tensorflow as tf\n",
    "from tensorflow.keras import Model\n",
    "from tensorflow.keras import layers\n",
    "from tensorflow.python.keras.engine import data_adapter\n",
    "from tensorflow.python.eager import backprop\n",
    "import os"
   ]
  },
  {
   "cell_type": "markdown",
   "id": "0a8d35e0-d763-4451-b90c-77c53bf00077",
   "metadata": {},
   "source": [
    "## Define TensorFlow Model\n",
    "\n",
    "One may create a TensorFlow model as usual but extending TensAIR instead of Model."
   ]
  },
  {
   "cell_type": "code",
   "execution_count": 2,
   "id": "60c883df-2da3-4999-b120-4f6502535bdf",
   "metadata": {},
   "outputs": [],
   "source": [
    "class Cifar(tensair.TensAIR):\n",
    "    def __init__(self):\n",
    "        super(Cifar, self).__init__()\n",
    "        self.l1 = layers.Conv2D(32, (3, 3), activation='relu', input_shape=(32, 32, 3))\n",
    "        self.l2 = layers.MaxPooling2D((2, 2))\n",
    "        self.l3 = layers.Conv2D(64, (3, 3), activation='relu')\n",
    "        self.l4 = layers.MaxPooling2D((2, 2))\n",
    "        self.l5 = layers.Conv2D(64, (3, 3), activation='relu')\n",
    "        self.l6 = layers.Flatten()\n",
    "        self.l7 = layers.Dense(64, activation='relu')\n",
    "        self.l8 = layers.Dense(10)\n",
    "        \n",
    "    @tf.function\n",
    "    def call(self, x):\n",
    "        x = self.l1(x)\n",
    "        x = self.l2(x)\n",
    "        x = self.l3(x)\n",
    "        x = self.l4(x)\n",
    "        x = self.l5(x)\n",
    "        x = self.l6(x)\n",
    "        x = self.l7(x)\n",
    "        x = self.l8(x)\n",
    "        return x\n",
    "    \n",
    "    @tf.function\n",
    "    def freeze_layers(self):\n",
    "        for layer in self.layers:\n",
    "            layer.trainable = False\n",
    "    \n",
    "        # Unfreeze the last two layers\n",
    "        self.l7.trainable = True\n",
    "        self.l8.trainable = True"
   ]
  },
  {
   "cell_type": "code",
   "execution_count": 3,
   "id": "9e546887-de51-4c02-a277-66d12833ef79",
   "metadata": {},
   "outputs": [],
   "source": [
    "#compile TensorFlow model as usual\n",
    "model = Cifar()\n",
    "\n",
    "learning_rate=0.01\n",
    "loss = tf.keras.losses.SparseCategoricalCrossentropy(from_logits=True)\n",
    "opt = tf.keras.optimizers.Adam()\n",
    "\n",
    "model.compile(optimizer=opt,\n",
    "              loss=loss,\n",
    "              metrics=['accuracy'])"
   ]
  },
  {
   "cell_type": "markdown",
   "id": "3960e739-df82-4af1-9c53-676e6074e39f",
   "metadata": {},
   "source": [
    "# Pre-train model\n",
    "\n",
    "In this example, we pre-train the model using CIFAR-10 for 20 epochs"
   ]
  },
  {
   "cell_type": "code",
   "execution_count": 4,
   "id": "69314b44-3b3c-4c79-971e-7885577a9a8c",
   "metadata": {},
   "outputs": [],
   "source": [
    "from tensorflow.keras import datasets"
   ]
  },
  {
   "cell_type": "code",
   "execution_count": 5,
   "id": "0c6da3bb-aaae-4868-9d9c-6a83400748ba",
   "metadata": {},
   "outputs": [],
   "source": [
    "#Download Cifar dataset\n",
    "(train_images, train_labels), (test_images, test_labels) = datasets.cifar10.load_data()\n",
    "\n",
    "# Normalize pixel values to be between 0 and 1\n",
    "train_images, test_images = train_images / 255.0, test_images / 255.0"
   ]
  },
  {
   "cell_type": "code",
   "execution_count": 6,
   "id": "5428d411-4263-40d9-a542-6f8390ecd696",
   "metadata": {
    "scrolled": true,
    "tags": []
   },
   "outputs": [
    {
     "name": "stdout",
     "output_type": "stream",
     "text": [
      "Epoch 1/20\n"
     ]
    },
    {
     "name": "stderr",
     "output_type": "stream",
     "text": [
      "2024-03-06 18:52:15.862599: W tensorflow/core/platform/profile_utils/cpu_utils.cc:128] Failed to get CPU frequency: 0 Hz\n"
     ]
    },
    {
     "name": "stdout",
     "output_type": "stream",
     "text": [
      "391/391 [==============================] - 10s 24ms/step - loss: 1.6725 - accuracy: 0.3829 - val_loss: 1.4169 - val_accuracy: 0.4831\n",
      "Epoch 2/20\n",
      "391/391 [==============================] - 9s 24ms/step - loss: 1.3330 - accuracy: 0.5219 - val_loss: 1.2632 - val_accuracy: 0.5483\n",
      "Epoch 3/20\n",
      "391/391 [==============================] - 10s 25ms/step - loss: 1.1976 - accuracy: 0.5731 - val_loss: 1.1919 - val_accuracy: 0.5804\n",
      "Epoch 4/20\n",
      "391/391 [==============================] - 10s 26ms/step - loss: 1.1037 - accuracy: 0.6099 - val_loss: 1.0553 - val_accuracy: 0.6272\n",
      "Epoch 5/20\n",
      "391/391 [==============================] - 11s 29ms/step - loss: 1.0153 - accuracy: 0.6417 - val_loss: 1.0228 - val_accuracy: 0.6374\n",
      "Epoch 6/20\n",
      "391/391 [==============================] - 10s 26ms/step - loss: 0.9636 - accuracy: 0.6612 - val_loss: 0.9811 - val_accuracy: 0.6575\n",
      "Epoch 7/20\n",
      "391/391 [==============================] - 10s 26ms/step - loss: 0.9126 - accuracy: 0.6822 - val_loss: 0.9558 - val_accuracy: 0.6710\n",
      "Epoch 8/20\n",
      "391/391 [==============================] - 10s 26ms/step - loss: 0.8703 - accuracy: 0.6954 - val_loss: 0.9311 - val_accuracy: 0.6764\n",
      "Epoch 9/20\n",
      "391/391 [==============================] - 11s 28ms/step - loss: 0.8333 - accuracy: 0.7098 - val_loss: 1.0049 - val_accuracy: 0.6620\n",
      "Epoch 10/20\n",
      "391/391 [==============================] - 11s 27ms/step - loss: 0.7998 - accuracy: 0.7211 - val_loss: 0.8945 - val_accuracy: 0.6932\n",
      "Epoch 11/20\n",
      "391/391 [==============================] - 11s 28ms/step - loss: 0.7703 - accuracy: 0.7331 - val_loss: 0.8944 - val_accuracy: 0.6866\n",
      "Epoch 12/20\n",
      "391/391 [==============================] - 11s 27ms/step - loss: 0.7445 - accuracy: 0.7403 - val_loss: 0.8829 - val_accuracy: 0.6962\n",
      "Epoch 13/20\n",
      "391/391 [==============================] - 11s 27ms/step - loss: 0.7144 - accuracy: 0.7521 - val_loss: 0.8784 - val_accuracy: 0.7023\n",
      "Epoch 14/20\n",
      "391/391 [==============================] - 11s 27ms/step - loss: 0.6867 - accuracy: 0.7599 - val_loss: 0.8635 - val_accuracy: 0.7028\n",
      "Epoch 15/20\n",
      "391/391 [==============================] - 10s 26ms/step - loss: 0.6669 - accuracy: 0.7693 - val_loss: 0.8603 - val_accuracy: 0.7109\n",
      "Epoch 16/20\n",
      "391/391 [==============================] - 10s 26ms/step - loss: 0.6378 - accuracy: 0.7766 - val_loss: 0.8958 - val_accuracy: 0.7038\n",
      "Epoch 17/20\n",
      "391/391 [==============================] - 10s 26ms/step - loss: 0.6238 - accuracy: 0.7821 - val_loss: 0.8564 - val_accuracy: 0.7156\n",
      "Epoch 18/20\n",
      "391/391 [==============================] - 19s 48ms/step - loss: 0.6003 - accuracy: 0.7896 - val_loss: 0.8576 - val_accuracy: 0.7127\n",
      "Epoch 19/20\n",
      "391/391 [==============================] - 10s 26ms/step - loss: 0.5733 - accuracy: 0.7992 - val_loss: 0.8673 - val_accuracy: 0.7164\n",
      "Epoch 20/20\n",
      "391/391 [==============================] - 10s 26ms/step - loss: 0.5555 - accuracy: 0.8047 - val_loss: 0.8754 - val_accuracy: 0.7059\n"
     ]
    }
   ],
   "source": [
    "history = model.fit(train_images, train_labels, batch_size=128, epochs=20, validation_data=(test_images, test_labels))"
   ]
  },
  {
   "cell_type": "markdown",
   "id": "724f6bcf-9c34-46ed-83d2-e1ee0cfe5a0d",
   "metadata": {},
   "source": [
    "# Prepare model for deployment\n",
    "\n",
    "To prepare the model for deployment, we fine tune only its last two layers in real-time. Thus, we freeze the first layers (optional).\n",
    "\n",
    "Then, we re-compile the model using SGD as optimizer.\n",
    "\n",
    "We later initialize the TF graph making a test prediction.\n",
    "\n",
    "At last, we initialize the gradients that will be broadcasted via TensAIR (mandatory)"
   ]
  },
  {
   "cell_type": "code",
   "execution_count": 7,
   "id": "be29a1a0-ed2e-4353-b255-c01be43eed68",
   "metadata": {},
   "outputs": [],
   "source": [
    "model.freeze_layers()"
   ]
  },
  {
   "cell_type": "code",
   "execution_count": 8,
   "id": "3a004c89-d594-4c4e-80da-70be88c46fc7",
   "metadata": {},
   "outputs": [],
   "source": [
    "loss =tf.keras.losses.SparseCategoricalCrossentropy(from_logits=True)\n",
    "opt = tf.keras.optimizers.SGD()\n",
    "\n",
    "model.compile(optimizer=opt,\n",
    "              loss=loss,\n",
    "              metrics=['accuracy'])"
   ]
  },
  {
   "cell_type": "code",
   "execution_count": 9,
   "id": "9497481f-1288-4526-998b-471f0e42e8e9",
   "metadata": {},
   "outputs": [
    {
     "name": "stdout",
     "output_type": "stream",
     "text": [
      "1/1 [==============================] - 0s 59ms/step\n"
     ]
    },
    {
     "data": {
      "text/plain": [
       "array([[-1.1212026, -2.744787 , -0.92356  ,  1.4073707,  2.6265948,\n",
       "        -2.3970294, -1.9702166, -3.2693338,  1.8532662, -2.4577236]],\n",
       "      dtype=float32)"
      ]
     },
     "execution_count": 9,
     "metadata": {},
     "output_type": "execute_result"
    }
   ],
   "source": [
    "x = tf.zeros((1, 32, 32, 3), dtype=float)\n",
    "model.predict(x)"
   ]
  },
  {
   "cell_type": "code",
   "execution_count": 10,
   "id": "581da77c-1616-4c06-935a-6c31a4a199cf",
   "metadata": {},
   "outputs": [],
   "source": [
    "model.init_delta(model.trainable_weights)"
   ]
  },
  {
   "cell_type": "markdown",
   "id": "7ea713c7-4e18-4aae-918b-5cec22a41784",
   "metadata": {},
   "source": [
    "# Save Model\n",
    "\n",
    "To save the model, we simply define the dimentions and types of the input tensors used during training, a pass those (along with the model) to the tensair.define_signatures function) to obtain the signature of the functions\n",
    "\n",
    "At last, we save the model on the desired location uwing the signatures previously obtained"
   ]
  },
  {
   "cell_type": "code",
   "execution_count": 11,
   "id": "17a125b7-da96-45fc-a9e5-44b5030451f4",
   "metadata": {},
   "outputs": [],
   "source": [
    "input_tensors_dims = [[None,32,32,3],[None]]\n",
    "input_tensors_types = [tf.float32,tf.int32]\n",
    "input_tensors_structure = (1,1)"
   ]
  },
  {
   "cell_type": "code",
   "execution_count": 12,
   "id": "f71c110a-68b5-428a-a027-2d9927847413",
   "metadata": {},
   "outputs": [],
   "source": [
    "signatures = tensair.define_signatures(model, input_tensors_dims,input_tensors_types,input_tensors_structure)"
   ]
  },
  {
   "cell_type": "code",
   "execution_count": 13,
   "id": "d6f8192d",
   "metadata": {},
   "outputs": [],
   "source": [
    "tensair_path = os.environ.get(\"TENSAIR_PATH\")"
   ]
  },
  {
   "cell_type": "code",
   "execution_count": 14,
   "id": "0815e892-dae3-4825-afdb-22c201e8196b",
   "metadata": {},
   "outputs": [
    {
     "name": "stderr",
     "output_type": "stream",
     "text": [
      "WARNING:absl:Found untraced functions such as _jit_compiled_convolution_op, _jit_compiled_convolution_op, _jit_compiled_convolution_op while saving (showing 3 of 3). These functions will not be directly callable after loading.\n"
     ]
    },
    {
     "name": "stdout",
     "output_type": "stream",
     "text": [
      "INFO:tensorflow:Assets written to: /Users/mauro.dalleluccatosi/Documents/GitHub-personal/TensAIR/data/demo/cifar_model_demo.tf/assets\n"
     ]
    },
    {
     "name": "stderr",
     "output_type": "stream",
     "text": [
      "INFO:tensorflow:Assets written to: /Users/mauro.dalleluccatosi/Documents/GitHub-personal/TensAIR/data/demo/cifar_model_demo.tf/assets\n"
     ]
    }
   ],
   "source": [
    "model.save(tensair_path+ \"/data/demo/cifar_model_demo.tf\", save_format=\"tf\", signatures=signatures)"
   ]
  },
  {
   "cell_type": "code",
   "execution_count": null,
   "id": "18009923-b189-4f92-814f-62aa151af0dd",
   "metadata": {},
   "outputs": [],
   "source": []
  }
 ],
 "metadata": {
  "kernelspec": {
   "display_name": "Python 3 (ipykernel)",
   "language": "python",
   "name": "python3"
  },
  "language_info": {
   "codemirror_mode": {
    "name": "ipython",
    "version": 3
   },
   "file_extension": ".py",
   "mimetype": "text/x-python",
   "name": "python",
   "nbconvert_exporter": "python",
   "pygments_lexer": "ipython3",
   "version": "3.9.4"
  }
 },
 "nbformat": 4,
 "nbformat_minor": 5
}
