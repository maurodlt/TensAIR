{
 "cells": [
  {
   "cell_type": "code",
   "execution_count": 1,
   "id": "350e4f82-4181-4cd5-84f5-f91cccf7cfcf",
   "metadata": {},
   "outputs": [],
   "source": [
    "from datasets import load_dataset\n",
    "import numpy as np\n",
    "import struct\n",
    "from PIL import Image\n",
    "import os"
   ]
  },
  {
   "cell_type": "code",
   "execution_count": 2,
   "id": "79c404e0-8549-4bd4-9039-c0447e187fc1",
   "metadata": {},
   "outputs": [],
   "source": [
    "tensair_path = os.environ.get(\"TENSAIR_PATH\")"
   ]
  },
  {
   "cell_type": "code",
   "execution_count": 3,
   "id": "5898358e-f933-41d7-b52c-21475875714e",
   "metadata": {},
   "outputs": [],
   "source": [
    "train_file_path = tensair_path + '/data/tiny_imagenet/tiny_imagenet_train.bin' \n",
    "val_file_path = tensair_path + '/data/tiny_imagenet/tiny_imagenet_eval.bin' "
   ]
  },
  {
   "cell_type": "code",
   "execution_count": 4,
   "id": "8547e398-9012-4f49-9ca0-3bdc05bad89d",
   "metadata": {},
   "outputs": [],
   "source": [
    "def img_to_byte_array(img):\n",
    "    #convet to numpy array\n",
    "    image_np = np.array(img.convert(\"RGB\"))\n",
    "\n",
    "    #set same dimension order as read by PyTorch\n",
    "    #image_np = np.transpose(image_np, (2, 0, 1))\n",
    "\n",
    "    #append all dimensions into a single array\n",
    "    single_array_image = image_np.reshape(-1)\n",
    "\n",
    "    # Pack each number as a single unsigned byte and concatenate them\n",
    "    byte_sequence = b''.join(struct.pack('B', num) for num in single_array_image)\n",
    "\n",
    "    return byte_sequence"
   ]
  },
  {
   "cell_type": "code",
   "execution_count": 5,
   "id": "a7e5b551-f159-4fd6-83d9-d9799e595273",
   "metadata": {},
   "outputs": [],
   "source": [
    "train = load_dataset('Maysee/tiny-imagenet', split='train')"
   ]
  },
  {
   "cell_type": "code",
   "execution_count": 6,
   "id": "3a1c72cf-7ffa-4a78-98a5-d1e153d384dd",
   "metadata": {},
   "outputs": [],
   "source": [
    "val = load_dataset('Maysee/tiny-imagenet', split='valid')"
   ]
  },
  {
   "cell_type": "code",
   "execution_count": 7,
   "id": "740d6f84-469f-49ac-ae41-5e39b9bad5ec",
   "metadata": {},
   "outputs": [],
   "source": [
    "with open(train_file_path, 'wb') as file:\n",
    "    for img in train:    \n",
    "        byte_sequence = img_to_byte_array(img['image'])\n",
    "        file.write(byte_sequence)\n",
    "        file.write(struct.pack('B', img['label'])) "
   ]
  },
  {
   "cell_type": "code",
   "execution_count": 8,
   "id": "12de2c73-1520-4280-a165-bc9eec802aa7",
   "metadata": {},
   "outputs": [],
   "source": [
    "with open(val_file_path, 'wb') as file:\n",
    "    for img in val:    \n",
    "        byte_sequence = img_to_byte_array(img['image'])\n",
    "        file.write(byte_sequence)\n",
    "        file.write(struct.pack('B', img['label']))    "
   ]
  },
  {
   "cell_type": "code",
   "execution_count": null,
   "id": "38703e80-62d2-42b8-bdc9-262cb3f1b4d2",
   "metadata": {},
   "outputs": [],
   "source": []
  }
 ],
 "metadata": {
  "kernelspec": {
   "display_name": "Python 3 (ipykernel)",
   "language": "python",
   "name": "python3"
  },
  "language_info": {
   "codemirror_mode": {
    "name": "ipython",
    "version": 3
   },
   "file_extension": ".py",
   "mimetype": "text/x-python",
   "name": "python",
   "nbconvert_exporter": "python",
   "pygments_lexer": "ipython3",
   "version": "3.9.4"
  }
 },
 "nbformat": 4,
 "nbformat_minor": 5
}
